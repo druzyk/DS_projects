{
 "cells": [
  {
   "cell_type": "markdown",
   "metadata": {},
   "source": [
    "----------\n",
    "\n",
    "## Комментарий от наставника\n",
    "\n",
    "Привет Роман!<p>\n",
    "Меня зовут Игорь Воробьёв и я буду твоим ревьювером по данному проекту.<p>\n",
    "Спасибо, что вовремя сдал задание:) Ты проделал большую работу.<p>\n",
    "Мои последующие комментарии в файле ты сможешь найти в подобных markdown ячейках с заголовком __«Комментарий от наставника»__.\n",
    "Для твоего удобства я предлагаю вот такую цветовую схему для моих пометок:<p>\n",
    "<font color=\"green\">зелёным цветом — я буду обозначать задания, с которыми ты справился превосходно;</font><p>\n",
    "<font color=\"orange\">оранжевым цветом — я отмечу задания, которые ты сделал хорошо, но я бы мог предложить тебе небольшие улучшения на будущее;</font><p>\n",
    "<font color=\"red\">красным цветом — будут выделены задания, которые я пока не могу принять, и для сдачи тебе потребуется их переработать по моим рекомендациям.</font><p>\n",
    "\n",
    "Я также буду оставлять коментарии в ячейках с кодом, для этого я буду использовать символ решетки __#__ с тремя восклицательными знаками __!!!__. <p>\n",
    "Все это позволит тебе отличить мои пометки от твоих и просто-напросто не запутаться.;) \n",
    "Постарайся запомнить такую схему и для дальнейших проектов со мной.     \n",
    "\n",
    "---------"
   ]
  },
  {
   "cell_type": "markdown",
   "metadata": {},
   "source": [
    "Вам нужно защитить данные клиентов страховой компании «Хоть потоп». Разработайте такой метод преобразования данных, чтобы по ним было сложно восстановить персональную информацию. Обоснуйте корректность его работы.\n",
    "\n",
    "Нужно защитить данные, чтобы при преобразовании качество моделей машинного обучения не ухудшилось. Подбирать наилучшую модель не требуется."
   ]
  },
  {
   "cell_type": "markdown",
   "metadata": {},
   "source": [
    "## 1. Загрузка данных"
   ]
  },
  {
   "cell_type": "code",
   "execution_count": 1,
   "metadata": {},
   "outputs": [],
   "source": [
    "import pandas as pd\n",
    "import numpy as np\n",
    "from sklearn.metrics import r2_score\n",
    "from sklearn.linear_model import LinearRegression\n",
    "from sklearn.model_selection import cross_val_score\n",
    "from scipy.stats import multivariate_normal\n",
    "from scipy import stats"
   ]
  },
  {
   "cell_type": "code",
   "execution_count": 2,
   "metadata": {},
   "outputs": [],
   "source": [
    "data = pd.read_csv('/datasets/insurance.csv')"
   ]
  },
  {
   "cell_type": "markdown",
   "metadata": {},
   "source": [
    "*Посмотрим на наши данные визуально*"
   ]
  },
  {
   "cell_type": "code",
   "execution_count": 3,
   "metadata": {
    "scrolled": true
   },
   "outputs": [
    {
     "data": {
      "text/html": [
       "<div>\n",
       "<style scoped>\n",
       "    .dataframe tbody tr th:only-of-type {\n",
       "        vertical-align: middle;\n",
       "    }\n",
       "\n",
       "    .dataframe tbody tr th {\n",
       "        vertical-align: top;\n",
       "    }\n",
       "\n",
       "    .dataframe thead th {\n",
       "        text-align: right;\n",
       "    }\n",
       "</style>\n",
       "<table border=\"1\" class=\"dataframe\">\n",
       "  <thead>\n",
       "    <tr style=\"text-align: right;\">\n",
       "      <th></th>\n",
       "      <th>Пол</th>\n",
       "      <th>Возраст</th>\n",
       "      <th>Зарплата</th>\n",
       "      <th>Члены семьи</th>\n",
       "      <th>Страховые выплаты</th>\n",
       "    </tr>\n",
       "  </thead>\n",
       "  <tbody>\n",
       "    <tr>\n",
       "      <td>0</td>\n",
       "      <td>1</td>\n",
       "      <td>41.0</td>\n",
       "      <td>49600.0</td>\n",
       "      <td>1</td>\n",
       "      <td>0</td>\n",
       "    </tr>\n",
       "    <tr>\n",
       "      <td>1</td>\n",
       "      <td>0</td>\n",
       "      <td>46.0</td>\n",
       "      <td>38000.0</td>\n",
       "      <td>1</td>\n",
       "      <td>1</td>\n",
       "    </tr>\n",
       "    <tr>\n",
       "      <td>2</td>\n",
       "      <td>0</td>\n",
       "      <td>29.0</td>\n",
       "      <td>21000.0</td>\n",
       "      <td>0</td>\n",
       "      <td>0</td>\n",
       "    </tr>\n",
       "    <tr>\n",
       "      <td>3</td>\n",
       "      <td>0</td>\n",
       "      <td>21.0</td>\n",
       "      <td>41700.0</td>\n",
       "      <td>2</td>\n",
       "      <td>0</td>\n",
       "    </tr>\n",
       "    <tr>\n",
       "      <td>4</td>\n",
       "      <td>1</td>\n",
       "      <td>28.0</td>\n",
       "      <td>26100.0</td>\n",
       "      <td>0</td>\n",
       "      <td>0</td>\n",
       "    </tr>\n",
       "  </tbody>\n",
       "</table>\n",
       "</div>"
      ],
      "text/plain": [
       "   Пол  Возраст  Зарплата  Члены семьи  Страховые выплаты\n",
       "0    1     41.0   49600.0            1                  0\n",
       "1    0     46.0   38000.0            1                  1\n",
       "2    0     29.0   21000.0            0                  0\n",
       "3    0     21.0   41700.0            2                  0\n",
       "4    1     28.0   26100.0            0                  0"
      ]
     },
     "execution_count": 3,
     "metadata": {},
     "output_type": "execute_result"
    }
   ],
   "source": [
    "data.head()"
   ]
  },
  {
   "cell_type": "code",
   "execution_count": 4,
   "metadata": {
    "scrolled": true
   },
   "outputs": [
    {
     "data": {
      "text/html": [
       "<div>\n",
       "<style scoped>\n",
       "    .dataframe tbody tr th:only-of-type {\n",
       "        vertical-align: middle;\n",
       "    }\n",
       "\n",
       "    .dataframe tbody tr th {\n",
       "        vertical-align: top;\n",
       "    }\n",
       "\n",
       "    .dataframe thead th {\n",
       "        text-align: right;\n",
       "    }\n",
       "</style>\n",
       "<table border=\"1\" class=\"dataframe\">\n",
       "  <thead>\n",
       "    <tr style=\"text-align: right;\">\n",
       "      <th></th>\n",
       "      <th>Пол</th>\n",
       "      <th>Возраст</th>\n",
       "      <th>Зарплата</th>\n",
       "      <th>Члены семьи</th>\n",
       "      <th>Страховые выплаты</th>\n",
       "    </tr>\n",
       "  </thead>\n",
       "  <tbody>\n",
       "    <tr>\n",
       "      <td>count</td>\n",
       "      <td>5000.000000</td>\n",
       "      <td>5000.000000</td>\n",
       "      <td>5000.000000</td>\n",
       "      <td>5000.000000</td>\n",
       "      <td>5000.000000</td>\n",
       "    </tr>\n",
       "    <tr>\n",
       "      <td>mean</td>\n",
       "      <td>0.499000</td>\n",
       "      <td>30.952800</td>\n",
       "      <td>39916.360000</td>\n",
       "      <td>1.194200</td>\n",
       "      <td>0.148000</td>\n",
       "    </tr>\n",
       "    <tr>\n",
       "      <td>std</td>\n",
       "      <td>0.500049</td>\n",
       "      <td>8.440807</td>\n",
       "      <td>9900.083569</td>\n",
       "      <td>1.091387</td>\n",
       "      <td>0.463183</td>\n",
       "    </tr>\n",
       "    <tr>\n",
       "      <td>min</td>\n",
       "      <td>0.000000</td>\n",
       "      <td>18.000000</td>\n",
       "      <td>5300.000000</td>\n",
       "      <td>0.000000</td>\n",
       "      <td>0.000000</td>\n",
       "    </tr>\n",
       "    <tr>\n",
       "      <td>25%</td>\n",
       "      <td>0.000000</td>\n",
       "      <td>24.000000</td>\n",
       "      <td>33300.000000</td>\n",
       "      <td>0.000000</td>\n",
       "      <td>0.000000</td>\n",
       "    </tr>\n",
       "    <tr>\n",
       "      <td>50%</td>\n",
       "      <td>0.000000</td>\n",
       "      <td>30.000000</td>\n",
       "      <td>40200.000000</td>\n",
       "      <td>1.000000</td>\n",
       "      <td>0.000000</td>\n",
       "    </tr>\n",
       "    <tr>\n",
       "      <td>75%</td>\n",
       "      <td>1.000000</td>\n",
       "      <td>37.000000</td>\n",
       "      <td>46600.000000</td>\n",
       "      <td>2.000000</td>\n",
       "      <td>0.000000</td>\n",
       "    </tr>\n",
       "    <tr>\n",
       "      <td>max</td>\n",
       "      <td>1.000000</td>\n",
       "      <td>65.000000</td>\n",
       "      <td>79000.000000</td>\n",
       "      <td>6.000000</td>\n",
       "      <td>5.000000</td>\n",
       "    </tr>\n",
       "  </tbody>\n",
       "</table>\n",
       "</div>"
      ],
      "text/plain": [
       "               Пол      Возраст      Зарплата  Члены семьи  Страховые выплаты\n",
       "count  5000.000000  5000.000000   5000.000000  5000.000000        5000.000000\n",
       "mean      0.499000    30.952800  39916.360000     1.194200           0.148000\n",
       "std       0.500049     8.440807   9900.083569     1.091387           0.463183\n",
       "min       0.000000    18.000000   5300.000000     0.000000           0.000000\n",
       "25%       0.000000    24.000000  33300.000000     0.000000           0.000000\n",
       "50%       0.000000    30.000000  40200.000000     1.000000           0.000000\n",
       "75%       1.000000    37.000000  46600.000000     2.000000           0.000000\n",
       "max       1.000000    65.000000  79000.000000     6.000000           5.000000"
      ]
     },
     "execution_count": 4,
     "metadata": {},
     "output_type": "execute_result"
    }
   ],
   "source": [
    "data.describe()"
   ]
  },
  {
   "cell_type": "markdown",
   "metadata": {},
   "source": [
    "*Оценим наши данные на пропуски*"
   ]
  },
  {
   "cell_type": "code",
   "execution_count": 5,
   "metadata": {
    "scrolled": true
   },
   "outputs": [
    {
     "data": {
      "text/plain": [
       "Пол                  0\n",
       "Возраст              0\n",
       "Зарплата             0\n",
       "Члены семьи          0\n",
       "Страховые выплаты    0\n",
       "dtype: int64"
      ]
     },
     "execution_count": 5,
     "metadata": {},
     "output_type": "execute_result"
    }
   ],
   "source": [
    "data.isna().sum()"
   ]
  },
  {
   "cell_type": "markdown",
   "metadata": {},
   "source": [
    "*Проверим данные на дубликаты*"
   ]
  },
  {
   "cell_type": "code",
   "execution_count": 6,
   "metadata": {},
   "outputs": [
    {
     "data": {
      "text/plain": [
       "153"
      ]
     },
     "execution_count": 6,
     "metadata": {},
     "output_type": "execute_result"
    }
   ],
   "source": [
    "data.duplicated().sum()"
   ]
  },
  {
   "cell_type": "markdown",
   "metadata": {},
   "source": [
    "*Удалим дубликаты*"
   ]
  },
  {
   "cell_type": "code",
   "execution_count": 7,
   "metadata": {},
   "outputs": [],
   "source": [
    "data.drop_duplicates(inplace=True)"
   ]
  },
  {
   "cell_type": "markdown",
   "metadata": {},
   "source": [
    "*Посмотрим на целевую переменную*"
   ]
  },
  {
   "cell_type": "code",
   "execution_count": 8,
   "metadata": {},
   "outputs": [
    {
     "data": {
      "text/plain": [
       "0    4284\n",
       "1     423\n",
       "2     114\n",
       "3      18\n",
       "4       7\n",
       "5       1\n",
       "Name: Страховые выплаты, dtype: int64"
      ]
     },
     "execution_count": 8,
     "metadata": {},
     "output_type": "execute_result"
    }
   ],
   "source": [
    "data['Страховые выплаты'].value_counts()"
   ]
  },
  {
   "cell_type": "markdown",
   "metadata": {},
   "source": [
    "*Видим, что целевая переменная у нас количественная, дискретная*"
   ]
  },
  {
   "cell_type": "markdown",
   "metadata": {},
   "source": [
    "### Вывод"
   ]
  },
  {
   "cell_type": "markdown",
   "metadata": {},
   "source": [
    "*Мы провели легкий исследовательский анализ наших данных, нашли некоторое количество дубликатов, в остальном наши данные обработаны и пригодны для построения модели машинного обучения.*"
   ]
  },
  {
   "cell_type": "markdown",
   "metadata": {},
   "source": [
    "## 2. Умножение матриц"
   ]
  },
  {
   "cell_type": "markdown",
   "metadata": {},
   "source": [
    "Попробуем доказать/опровергнуть утверждение: Признаки умножают на обратимую матрицу. Изменится ли качество линейной регрессии? (Её можно обучить заново.)"
   ]
  },
  {
   "cell_type": "markdown",
   "metadata": {},
   "source": [
    "Обозначения:\n",
    "\n",
    "- $X$ — матрица признаков (нулевой столбец состоит из единиц)\n",
    "\n",
    "- $y$ — вектор целевого признака\n",
    "\n",
    "- $P$ — матрица, на которую умножаются признаки\n",
    "\n",
    "- $w$ — вектор весов линейной регрессии (нулевой элемент равен сдвигу)"
   ]
  },
  {
   "cell_type": "markdown",
   "metadata": {},
   "source": [
    "Предсказания:\n",
    "\n",
    "$$\n",
    "a = Xw\n",
    "$$\n",
    "\n",
    "Задача обучения:\n",
    "\n",
    "$$\n",
    "w = \\arg\\min_w MSE(Xw, y)\n",
    "$$\n",
    "\n",
    "Формула обучения:\n",
    "\n",
    "$$\n",
    "w = (X^T X)^{-1} X^T y\n",
    "$$"
   ]
  },
  {
   "cell_type": "markdown",
   "metadata": {},
   "source": [
    "**Ответ:** Качество линейной регрессии не изменится\n",
    "\n",
    "**Обоснование:**"
   ]
  },
  {
   "cell_type": "markdown",
   "metadata": {},
   "source": [
    "Мы знаем, что \n",
    "$$\n",
    "X = X*E\n",
    "$$\n",
    "$$\n",
    "E = P*P^{-1}\n",
    "$$\n",
    "Выразив одно утверждение через другое, мы имеем\n",
    "$$\n",
    "X^{-1} = X*P\n",
    "$$\n",
    "Из этих правил, мы можем сделать вывод, что:\n",
    "$$\n",
    "P^{-1} * w = w^{-1}\n",
    "$$\n",
    "Теперь подставим данные утверждения в формулу расчета MSE, мы имеем:\n",
    "$$\n",
    "MSE(Xw, y) = MSE(XEw, y) = MSE(XPP^{-1}w, y) = MSE(X^{-1}w^{-1}, y) = MSE((Xw)^{-1}, y)\n",
    "$$\n",
    "Данное утверждение справедиво, если пространство признаков имеет размерность m x n, а матрица, на которую умножаем имеет размер n x n и, по определению, обратима."
   ]
  },
  {
   "cell_type": "markdown",
   "metadata": {},
   "source": [
    "Докажем данное утверждение и для формулы весов (домножим на P):"
   ]
  },
  {
   "cell_type": "markdown",
   "metadata": {},
   "source": [
    "$$(X^T X)^{-1} X^T y = ((XP)^T (XP))^{-1} (XP)^T y = ((X^{-1})^T (X^{-1}))^{-1} (X^{-1})^T y = (X^T X) (X^T)^{-1} y = w^{-1}$$"
   ]
  },
  {
   "cell_type": "markdown",
   "metadata": {},
   "source": [
    "Мы видим, что выражение $(X^T X) (X^{-1})^T y$, обратно пространству признаков при умножении на P, используя равенство $P^{-1} * w = w^{-1}$, мы можем сделать вывод об эквивалентности данных"
   ]
  },
  {
   "cell_type": "markdown",
   "metadata": {},
   "source": [
    "Из вышестоящего выражения, мы доказали, что $w = P * w^{-1}$, умножим $a$ на $P$, получим $a = Xw = XP^{-1}w$."
   ]
  },
  {
   "cell_type": "markdown",
   "metadata": {},
   "source": [
    "Подставив $w = P * w^{-1}$, получим $a = Xw = XP^{-1} * P * w^{-1} = XEw = Xw$"
   ]
  },
  {
   "cell_type": "markdown",
   "metadata": {},
   "source": [
    "-------\n",
    "<font color=\"red\">\n",
    "\n",
    "## Комментарий от наставника\n",
    "    \n",
    "Извини в моем предыдущем комментарии была описка, которая возможно сбила тебя. \n",
    "    \n",
    "Давай я помогу тебе выстроить логику выкладок. И ты с нуля напишешь корректные выкладки.<p>\n",
    "По формуле обучения, вектора весов, обученных на признаках $X$ и признаках $XP$ (где P-обратимая матрица), выглядят так:\n",
    "\n",
    "$\n",
    "w = (X^T X)^{-1} X^T y\n",
    "$\n",
    "\n",
    "$\n",
    "u = ((X P)^T X P)^{-1} (X P)^T y\n",
    "$\n",
    "\n",
    "Тебе нужно преобразовать выражение для вектора $u$, воспользовавшись свойствами:\n",
    "    \n",
    "(1) $(A B)^T = B^T A^T$\n",
    "\n",
    "(2) $(A B)^{-1} = B^{-1} A^{-1}$ для квадратных обратимых матриц $A$ и $B$\n",
    "\n",
    "(3) $A^{-1} A = E$\n",
    "\n",
    "(4) $E A = А E = A$\n",
    "\n",
    "И показать, что\n",
    "(5) $u = P^{-1} w$\n",
    "\n",
    "<p>Фактически ты это показал выше, но пользовался свойством, которое никак не доказано\n",
    "$\n",
    "X^{-1} = X*P\n",
    "$\n",
    "<p>\n",
    "\n",
    "Ну и наконец используя доказанное равенство (5) покажи, что предсказания для признаков XP равны предсказаниям на исходном признаке X\n",
    "\n",
    "$a_{xp} = X P u = X w = a_{x}$\n",
    "</font>"
   ]
  },
  {
   "cell_type": "markdown",
   "metadata": {},
   "source": [
    "По формуле обучения, вектора весов, обученных на признаках $X$ и признаках $XP$ (где P-обратимая матрица), выглядят так:\n",
    "\n",
    "$$\n",
    "w = (X^T X)^{-1} X^T y\n",
    "$$\n",
    "\n",
    "$$\n",
    "u = ((X P)^T X P)^{-1} (X P)^T y\n",
    "$$\n",
    "Воспользовавшись свойствами:"
   ]
  },
  {
   "cell_type": "markdown",
   "metadata": {},
   "source": [
    "(1) $(A B)^T = B^T A^T$\n",
    "\n",
    "(2) $(A B)^{-1} = B^{-1} A^{-1}$ для квадратных обратимых матриц $A$ и $B$\n",
    "\n",
    "(3) $A^{-1} A = E$\n",
    "\n",
    "(4) $E A = А E = A$"
   ]
  },
  {
   "cell_type": "markdown",
   "metadata": {},
   "source": [
    "Преобразуем выражение $u = ((X P)^T X P)^{-1} (X P)^T y$ = $((X^{-1} * (P^{-1})^T (X^{-1} * P^{-1}))^{-1} (X^{-1} * P^{-1})^T y$, раскроем скобки, воспользовавшись вышеописанными свойствами и сделая перестановки, мы получим:"
   ]
  },
  {
   "cell_type": "markdown",
   "metadata": {},
   "source": [
    "$u = P^{-1} * (X^T X)^{-1} X^T y = P^{-1} w$"
   ]
  },
  {
   "cell_type": "markdown",
   "metadata": {},
   "source": [
    "Далее умножим пространство предсказаний на Р: $a_{xp} = X P u = X P P^{-1} w = X w$"
   ]
  },
  {
   "cell_type": "markdown",
   "metadata": {},
   "source": [
    "## 3. Алгоритм преобразования"
   ]
  },
  {
   "cell_type": "markdown",
   "metadata": {},
   "source": [
    "**Алгоритм**\n",
    "\n",
    "Для кодирования обратимой матрицей, мы умножаем пространство признаков на обратимую матрицу из многомерного нормального распределения, данным действием мы сдвигаем пространство признаков в том же пространстве, что не нарушает структуру и при вычислении MSE не влияет никак на качество модели, так результирующее пространство предсказаний остается неизменным и, соответственно, разница между $y1 - y2$, остается неизменным."
   ]
  },
  {
   "cell_type": "markdown",
   "metadata": {},
   "source": [
    "Зная кодирующую матрицу, мы довольно надежно можем деперсонализировать пространство признаков, которое будет проблемно расшифровать, не зная декодирующую матрицу, но пространство признаков можно преобразовать к первоначальному виду, умножив на обратную матрицу, что и будет продемонстрировано дальше."
   ]
  },
  {
   "cell_type": "markdown",
   "metadata": {},
   "source": [
    "## 4. Проверка алгоритма"
   ]
  },
  {
   "cell_type": "markdown",
   "metadata": {},
   "source": [
    "*Разделим наши данные на признаки и целевую переменную*"
   ]
  },
  {
   "cell_type": "code",
   "execution_count": 9,
   "metadata": {},
   "outputs": [],
   "source": [
    "X_original = data.drop('Страховые выплаты', axis=1)\n",
    "y = data['Страховые выплаты']"
   ]
  },
  {
   "cell_type": "markdown",
   "metadata": {},
   "source": [
    "*Обучим модель линейной регрессии на не преобразованных данных* "
   ]
  },
  {
   "cell_type": "code",
   "execution_count": 10,
   "metadata": {
    "scrolled": true
   },
   "outputs": [
    {
     "data": {
      "text/plain": [
       "{'Точность модели до преобразования': 0.42779425802804916}"
      ]
     },
     "execution_count": 10,
     "metadata": {},
     "output_type": "execute_result"
    }
   ],
   "source": [
    "model = LinearRegression()\n",
    "score_before = cross_val_score(model, X_original, y, scoring='r2', cv=5).mean()\n",
    "score_dict = {'Точность модели до преобразования': score_before}; score_dict"
   ]
  },
  {
   "cell_type": "markdown",
   "metadata": {},
   "source": [
    "***"
   ]
  },
  {
   "cell_type": "markdown",
   "metadata": {},
   "source": [
    "*Теперь проведем кодирование признаков, в соответствии с алгоритмом, а именно умножим пространство признаков на обратимую матрицу из пространства нормального распределения*"
   ]
  },
  {
   "cell_type": "code",
   "execution_count": 11,
   "metadata": {},
   "outputs": [],
   "source": [
    "#Сгенерируем матрицу\n",
    "#P = np.linalg.inv(np.array([[np.random.normal() for x in range(X_original.shape[1])] for y in range(X_original.shape[1])]))"
   ]
  },
  {
   "cell_type": "code",
   "execution_count": 12,
   "metadata": {},
   "outputs": [],
   "source": [
    "P = np.random.normal(size=(4, 4))"
   ]
  },
  {
   "cell_type": "markdown",
   "metadata": {},
   "source": [
    "-------\n",
    "<font color=\"red\">\n",
    "\n",
    "## Комментарий от наставника\n",
    "    \n",
    "Уж больно сложно получилось. Почему нельзя было просто использовать?\n",
    "    \n",
    "P = np.random.normal(size=(4, 4))\n",
    "    \n",
    "</font>"
   ]
  },
  {
   "cell_type": "markdown",
   "metadata": {},
   "source": [
    "<font color=\"blue\">\n",
    "А что, так можно было??? Это вообще законно??? :) Во я реально перемудрил\n",
    "</font>"
   ]
  },
  {
   "cell_type": "markdown",
   "metadata": {},
   "source": [
    "-------\n",
    "<font color=\"green\">\n",
    "\n",
    "## Комментарий от наставника\n",
    "    \n",
    "Принято)\n",
    "    \n",
    "</font>"
   ]
  },
  {
   "cell_type": "markdown",
   "metadata": {},
   "source": [
    "*Убедимся, что наша матрица обратима, умножим на обратную, должна получится еденичная матрица*"
   ]
  },
  {
   "cell_type": "code",
   "execution_count": 13,
   "metadata": {
    "scrolled": true
   },
   "outputs": [
    {
     "data": {
      "text/plain": [
       "array([[ 1.00000000e+00, -1.41846309e-16,  2.30055534e-16,\n",
       "         8.53359183e-17],\n",
       "       [ 2.74642151e-17,  1.00000000e+00, -1.52212126e-16,\n",
       "         3.22415879e-17],\n",
       "       [-9.72661429e-17,  9.19305072e-17,  1.00000000e+00,\n",
       "        -9.23195349e-17],\n",
       "       [-1.19260614e-18,  5.68217254e-17,  1.15497326e-16,\n",
       "         1.00000000e+00]])"
      ]
     },
     "execution_count": 13,
     "metadata": {},
     "output_type": "execute_result"
    }
   ],
   "source": [
    "P @ np.linalg.inv(P)"
   ]
  },
  {
   "cell_type": "markdown",
   "metadata": {},
   "source": [
    "*Видим, что действительно получилась еденичная матрица, за исключением погрешности матричных вычислений в 15 знаке*"
   ]
  },
  {
   "cell_type": "code",
   "execution_count": 14,
   "metadata": {},
   "outputs": [],
   "source": [
    "#Проведем кодирование пространства признаков\n",
    "X = X_original @ P"
   ]
  },
  {
   "cell_type": "markdown",
   "metadata": {},
   "source": [
    "*Посмотрим визуально на признаки*"
   ]
  },
  {
   "cell_type": "code",
   "execution_count": 15,
   "metadata": {
    "scrolled": true
   },
   "outputs": [
    {
     "data": {
      "text/html": [
       "<div>\n",
       "<style scoped>\n",
       "    .dataframe tbody tr th:only-of-type {\n",
       "        vertical-align: middle;\n",
       "    }\n",
       "\n",
       "    .dataframe tbody tr th {\n",
       "        vertical-align: top;\n",
       "    }\n",
       "\n",
       "    .dataframe thead th {\n",
       "        text-align: right;\n",
       "    }\n",
       "</style>\n",
       "<table border=\"1\" class=\"dataframe\">\n",
       "  <thead>\n",
       "    <tr style=\"text-align: right;\">\n",
       "      <th></th>\n",
       "      <th>0</th>\n",
       "      <th>1</th>\n",
       "      <th>2</th>\n",
       "      <th>3</th>\n",
       "    </tr>\n",
       "  </thead>\n",
       "  <tbody>\n",
       "    <tr>\n",
       "      <td>0</td>\n",
       "      <td>-15468.025668</td>\n",
       "      <td>-42294.373289</td>\n",
       "      <td>24346.975716</td>\n",
       "      <td>-30911.000394</td>\n",
       "    </tr>\n",
       "    <tr>\n",
       "      <td>1</td>\n",
       "      <td>-11847.875707</td>\n",
       "      <td>-32379.049312</td>\n",
       "      <td>18665.189071</td>\n",
       "      <td>-23676.769607</td>\n",
       "    </tr>\n",
       "    <tr>\n",
       "      <td>2</td>\n",
       "      <td>-6546.626176</td>\n",
       "      <td>-17888.227341</td>\n",
       "      <td>10317.482047</td>\n",
       "      <td>-13083.515622</td>\n",
       "    </tr>\n",
       "    <tr>\n",
       "      <td>3</td>\n",
       "      <td>-13008.629114</td>\n",
       "      <td>-35576.504206</td>\n",
       "      <td>20460.506732</td>\n",
       "      <td>-25994.171317</td>\n",
       "    </tr>\n",
       "    <tr>\n",
       "      <td>4</td>\n",
       "      <td>-8137.309555</td>\n",
       "      <td>-22247.038664</td>\n",
       "      <td>12815.636731</td>\n",
       "      <td>-16262.390674</td>\n",
       "    </tr>\n",
       "  </tbody>\n",
       "</table>\n",
       "</div>"
      ],
      "text/plain": [
       "              0             1             2             3\n",
       "0 -15468.025668 -42294.373289  24346.975716 -30911.000394\n",
       "1 -11847.875707 -32379.049312  18665.189071 -23676.769607\n",
       "2  -6546.626176 -17888.227341  10317.482047 -13083.515622\n",
       "3 -13008.629114 -35576.504206  20460.506732 -25994.171317\n",
       "4  -8137.309555 -22247.038664  12815.636731 -16262.390674"
      ]
     },
     "execution_count": 15,
     "metadata": {},
     "output_type": "execute_result"
    }
   ],
   "source": [
    "X.head()"
   ]
  },
  {
   "cell_type": "markdown",
   "metadata": {},
   "source": [
    "*Отлично, набор случайных цифр*"
   ]
  },
  {
   "cell_type": "markdown",
   "metadata": {},
   "source": [
    "*Обучим модель линейно регресси на преобразованных данных и сравним качество модели*"
   ]
  },
  {
   "cell_type": "code",
   "execution_count": 16,
   "metadata": {
    "scrolled": false
   },
   "outputs": [
    {
     "data": {
      "text/plain": [
       "{'Точность модели до преобразования': 0.42779425802804916,\n",
       " 'Точность модели после преобразования': 0.42779425802807136,\n",
       " 'Разница оценки качества': 2.220446049250313e-14}"
      ]
     },
     "execution_count": 16,
     "metadata": {},
     "output_type": "execute_result"
    }
   ],
   "source": [
    "score_after = cross_val_score(model, X, y, scoring='r2', cv=5).mean()\n",
    "score_dict['Точность модели после преобразования'] = score_after\n",
    "score_dict['Разница оценки качества'] = score_after - score_before; score_dict"
   ]
  },
  {
   "cell_type": "markdown",
   "metadata": {},
   "source": [
    "*Предположим нулевую гипотезу - качество не изменилось*"
   ]
  },
  {
   "cell_type": "code",
   "execution_count": 17,
   "metadata": {
    "scrolled": true
   },
   "outputs": [
    {
     "name": "stdout",
     "output_type": "stream",
     "text": [
      "Пространство признаков не изменилось\n"
     ]
    }
   ],
   "source": [
    "alpha = .05\n",
    "result = stats.ttest_ind(X_original, X)\n",
    "if result.pvalue.mean() > alpha:\n",
    "    print(\"Пространство признаков изменилось\")\n",
    "else:\n",
    "    print(\"Пространство признаков не изменилось\")"
   ]
  },
  {
   "cell_type": "markdown",
   "metadata": {},
   "source": [
    "*Мы видим, что качество модели практически не изменилось, разница есть на 13 знаке после запятой, что подтверждает и статистический Т-тест*"
   ]
  },
  {
   "cell_type": "markdown",
   "metadata": {},
   "source": [
    "-------\n",
    "<font color=\"orange\">\n",
    "\n",
    "## Комментарий от наставника\n",
    "  \n",
    "В идеале конечно было сделать это сравнение с применением статистического критерия значимости (ttest)\n",
    "    \n",
    "</font>"
   ]
  },
  {
   "cell_type": "markdown",
   "metadata": {},
   "source": [
    "<font color=\"blue\">\n",
    "Сделал\n",
    "</font>"
   ]
  },
  {
   "cell_type": "markdown",
   "metadata": {},
   "source": [
    "-------\n",
    "<font color=\"green\">\n",
    "\n",
    "## Комментарий от наставника\n",
    "    \n",
    "Принято)\n",
    "    \n",
    "</font>"
   ]
  },
  {
   "cell_type": "markdown",
   "metadata": {},
   "source": [
    "***"
   ]
  },
  {
   "cell_type": "markdown",
   "metadata": {},
   "source": [
    "*Попробуем преобразовать наши данные в первоначальный вид*"
   ]
  },
  {
   "cell_type": "code",
   "execution_count": 18,
   "metadata": {
    "scrolled": true
   },
   "outputs": [
    {
     "data": {
      "text/html": [
       "<div>\n",
       "<style scoped>\n",
       "    .dataframe tbody tr th:only-of-type {\n",
       "        vertical-align: middle;\n",
       "    }\n",
       "\n",
       "    .dataframe tbody tr th {\n",
       "        vertical-align: top;\n",
       "    }\n",
       "\n",
       "    .dataframe thead th {\n",
       "        text-align: right;\n",
       "    }\n",
       "</style>\n",
       "<table border=\"1\" class=\"dataframe\">\n",
       "  <thead>\n",
       "    <tr style=\"text-align: right;\">\n",
       "      <th></th>\n",
       "      <th>0</th>\n",
       "      <th>1</th>\n",
       "      <th>2</th>\n",
       "      <th>3</th>\n",
       "    </tr>\n",
       "  </thead>\n",
       "  <tbody>\n",
       "    <tr>\n",
       "      <td>0</td>\n",
       "      <td>1.000000e+00</td>\n",
       "      <td>41.0</td>\n",
       "      <td>49600.0</td>\n",
       "      <td>1.000000e+00</td>\n",
       "    </tr>\n",
       "    <tr>\n",
       "      <td>1</td>\n",
       "      <td>-3.477453e-12</td>\n",
       "      <td>46.0</td>\n",
       "      <td>38000.0</td>\n",
       "      <td>1.000000e+00</td>\n",
       "    </tr>\n",
       "    <tr>\n",
       "      <td>2</td>\n",
       "      <td>-1.764261e-12</td>\n",
       "      <td>29.0</td>\n",
       "      <td>21000.0</td>\n",
       "      <td>-1.709641e-12</td>\n",
       "    </tr>\n",
       "    <tr>\n",
       "      <td>3</td>\n",
       "      <td>-4.637219e-12</td>\n",
       "      <td>21.0</td>\n",
       "      <td>41700.0</td>\n",
       "      <td>2.000000e+00</td>\n",
       "    </tr>\n",
       "    <tr>\n",
       "      <td>4</td>\n",
       "      <td>1.000000e+00</td>\n",
       "      <td>28.0</td>\n",
       "      <td>26100.0</td>\n",
       "      <td>-3.231739e-12</td>\n",
       "    </tr>\n",
       "  </tbody>\n",
       "</table>\n",
       "</div>"
      ],
      "text/plain": [
       "              0     1        2             3\n",
       "0  1.000000e+00  41.0  49600.0  1.000000e+00\n",
       "1 -3.477453e-12  46.0  38000.0  1.000000e+00\n",
       "2 -1.764261e-12  29.0  21000.0 -1.709641e-12\n",
       "3 -4.637219e-12  21.0  41700.0  2.000000e+00\n",
       "4  1.000000e+00  28.0  26100.0 -3.231739e-12"
      ]
     },
     "execution_count": 18,
     "metadata": {},
     "output_type": "execute_result"
    }
   ],
   "source": [
    "X = X @ np.linalg.inv(P); X.head()"
   ]
  },
  {
   "cell_type": "markdown",
   "metadata": {},
   "source": [
    "*Видим, что данные восстановленны, практически 100%, имеется артефакты преобразований на уровне 11-14 знак после десятичного разделителя.*"
   ]
  },
  {
   "cell_type": "markdown",
   "metadata": {},
   "source": [
    "*Сравним ее с изначальной*"
   ]
  },
  {
   "cell_type": "code",
   "execution_count": 19,
   "metadata": {
    "scrolled": false
   },
   "outputs": [
    {
     "data": {
      "text/html": [
       "<div>\n",
       "<style scoped>\n",
       "    .dataframe tbody tr th:only-of-type {\n",
       "        vertical-align: middle;\n",
       "    }\n",
       "\n",
       "    .dataframe tbody tr th {\n",
       "        vertical-align: top;\n",
       "    }\n",
       "\n",
       "    .dataframe thead th {\n",
       "        text-align: right;\n",
       "    }\n",
       "</style>\n",
       "<table border=\"1\" class=\"dataframe\">\n",
       "  <thead>\n",
       "    <tr style=\"text-align: right;\">\n",
       "      <th></th>\n",
       "      <th>0</th>\n",
       "      <th>1</th>\n",
       "      <th>2</th>\n",
       "      <th>3</th>\n",
       "    </tr>\n",
       "  </thead>\n",
       "  <tbody>\n",
       "    <tr>\n",
       "      <td>0</td>\n",
       "      <td>-4.036993e-12</td>\n",
       "      <td>4.320100e-12</td>\n",
       "      <td>-7.275958e-12</td>\n",
       "      <td>-8.114731e-12</td>\n",
       "    </tr>\n",
       "    <tr>\n",
       "      <td>1</td>\n",
       "      <td>-3.477453e-12</td>\n",
       "      <td>1.932676e-12</td>\n",
       "      <td>0.000000e+00</td>\n",
       "      <td>-4.024558e-12</td>\n",
       "    </tr>\n",
       "    <tr>\n",
       "      <td>2</td>\n",
       "      <td>-1.764261e-12</td>\n",
       "      <td>2.739142e-12</td>\n",
       "      <td>3.637979e-12</td>\n",
       "      <td>-1.709641e-12</td>\n",
       "    </tr>\n",
       "    <tr>\n",
       "      <td>3</td>\n",
       "      <td>-4.637219e-12</td>\n",
       "      <td>5.190515e-12</td>\n",
       "      <td>0.000000e+00</td>\n",
       "      <td>-3.175682e-12</td>\n",
       "    </tr>\n",
       "    <tr>\n",
       "      <td>4</td>\n",
       "      <td>-1.587397e-12</td>\n",
       "      <td>2.906120e-12</td>\n",
       "      <td>0.000000e+00</td>\n",
       "      <td>-3.231739e-12</td>\n",
       "    </tr>\n",
       "    <tr>\n",
       "      <td>...</td>\n",
       "      <td>...</td>\n",
       "      <td>...</td>\n",
       "      <td>...</td>\n",
       "      <td>...</td>\n",
       "    </tr>\n",
       "    <tr>\n",
       "      <td>4842</td>\n",
       "      <td>-2.932608e-12</td>\n",
       "      <td>2.131628e-12</td>\n",
       "      <td>0.000000e+00</td>\n",
       "      <td>-4.026557e-12</td>\n",
       "    </tr>\n",
       "    <tr>\n",
       "      <td>4843</td>\n",
       "      <td>-4.545450e-12</td>\n",
       "      <td>4.135359e-12</td>\n",
       "      <td>0.000000e+00</td>\n",
       "      <td>-4.592327e-12</td>\n",
       "    </tr>\n",
       "    <tr>\n",
       "      <td>4844</td>\n",
       "      <td>-3.903995e-12</td>\n",
       "      <td>2.049916e-12</td>\n",
       "      <td>0.000000e+00</td>\n",
       "      <td>-2.695177e-12</td>\n",
       "    </tr>\n",
       "    <tr>\n",
       "      <td>4845</td>\n",
       "      <td>-2.385536e-12</td>\n",
       "      <td>1.509903e-12</td>\n",
       "      <td>3.637979e-12</td>\n",
       "      <td>-2.893685e-12</td>\n",
       "    </tr>\n",
       "    <tr>\n",
       "      <td>4846</td>\n",
       "      <td>-4.328315e-12</td>\n",
       "      <td>3.062439e-12</td>\n",
       "      <td>0.000000e+00</td>\n",
       "      <td>-5.622613e-12</td>\n",
       "    </tr>\n",
       "  </tbody>\n",
       "</table>\n",
       "<p>4847 rows × 4 columns</p>\n",
       "</div>"
      ],
      "text/plain": [
       "                 0             1             2             3\n",
       "0    -4.036993e-12  4.320100e-12 -7.275958e-12 -8.114731e-12\n",
       "1    -3.477453e-12  1.932676e-12  0.000000e+00 -4.024558e-12\n",
       "2    -1.764261e-12  2.739142e-12  3.637979e-12 -1.709641e-12\n",
       "3    -4.637219e-12  5.190515e-12  0.000000e+00 -3.175682e-12\n",
       "4    -1.587397e-12  2.906120e-12  0.000000e+00 -3.231739e-12\n",
       "...            ...           ...           ...           ...\n",
       "4842 -2.932608e-12  2.131628e-12  0.000000e+00 -4.026557e-12\n",
       "4843 -4.545450e-12  4.135359e-12  0.000000e+00 -4.592327e-12\n",
       "4844 -3.903995e-12  2.049916e-12  0.000000e+00 -2.695177e-12\n",
       "4845 -2.385536e-12  1.509903e-12  3.637979e-12 -2.893685e-12\n",
       "4846 -4.328315e-12  3.062439e-12  0.000000e+00 -5.622613e-12\n",
       "\n",
       "[4847 rows x 4 columns]"
      ]
     },
     "execution_count": 19,
     "metadata": {},
     "output_type": "execute_result"
    }
   ],
   "source": [
    "pd.DataFrame(X.values - X_original.values)"
   ]
  },
  {
   "cell_type": "markdown",
   "metadata": {},
   "source": [
    "*Посмотрим на describe*"
   ]
  },
  {
   "cell_type": "code",
   "execution_count": 20,
   "metadata": {},
   "outputs": [
    {
     "name": "stdout",
     "output_type": "stream",
     "text": [
      "                  0            1             2             3\n",
      "count  4.847000e+03  4847.000000   4847.000000  4.847000e+03\n",
      "mean   4.984527e-01    31.023932  39895.811842  1.203425e+00\n",
      "std    5.000492e-01     8.487995   9972.953985  1.098664e+00\n",
      "min   -9.486570e-12    18.000000   5300.000000 -1.609578e-11\n",
      "25%   -3.503179e-12    24.000000  33200.000000 -2.534875e-12\n",
      "50%   -8.240155e-13    30.000000  40200.000000  1.000000e+00\n",
      "75%    1.000000e+00    37.000000  46600.000000  2.000000e+00\n",
      "max    1.000000e+00    65.000000  79000.000000  6.000000e+00\n",
      "               Пол      Возраст      Зарплата  Члены семьи\n",
      "count  4847.000000  4847.000000   4847.000000  4847.000000\n",
      "mean      0.498453    31.023932  39895.811842     1.203425\n",
      "std       0.500049     8.487995   9972.953985     1.098664\n",
      "min       0.000000    18.000000   5300.000000     0.000000\n",
      "25%       0.000000    24.000000  33200.000000     0.000000\n",
      "50%       0.000000    30.000000  40200.000000     1.000000\n",
      "75%       1.000000    37.000000  46600.000000     2.000000\n",
      "max       1.000000    65.000000  79000.000000     6.000000\n"
     ]
    }
   ],
   "source": [
    "print(X.describe()); print(X_original.describe())"
   ]
  },
  {
   "cell_type": "markdown",
   "metadata": {},
   "source": [
    "*Видим, что получилась нулевая матрица, с погрешностями от матричных вычислений*"
   ]
  },
  {
   "cell_type": "markdown",
   "metadata": {},
   "source": [
    "-------\n",
    "<font color=\"orange\">\n",
    "\n",
    "## Комментарий от наставника\n",
    "    \n",
    "Для наглядности было хорошо показать .describe() по исходному и расшифрованному датафреймам) **Сделал**\n",
    "    \n",
    "</font>"
   ]
  },
  {
   "cell_type": "markdown",
   "metadata": {},
   "source": [
    "<font color=\"blue\">\n",
    "Сделал\n",
    "</font>"
   ]
  },
  {
   "cell_type": "markdown",
   "metadata": {},
   "source": [
    "-------\n",
    "<font color=\"green\">\n",
    "\n",
    "## Комментарий от наставника\n",
    "    \n",
    "Принято)\n",
    "    \n",
    "</font>"
   ]
  },
  {
   "cell_type": "markdown",
   "metadata": {},
   "source": [
    "### Вывод"
   ]
  },
  {
   "cell_type": "markdown",
   "metadata": {},
   "source": [
    "*Мы провели реализацию алгоритма кодирования признаков и убедились, что данный алгоритм никак не влияет на качество модели - данный инструмент можно использовать в дальнейшем для кодирования признаков.*"
   ]
  },
  {
   "cell_type": "markdown",
   "metadata": {},
   "source": [
    "-------\n",
    "<font color=\"red\">\n",
    "\n",
    "## Комментарий от наставника\n",
    "\n",
    "В целом у тебя получилась неплохая работа, исправь мои красные комментарии и я смогу её зачесть)\n",
    "    \n",
    "</font>"
   ]
  },
  {
   "cell_type": "markdown",
   "metadata": {},
   "source": [
    "<font color=\"blue\">\n",
    "Сделал\n",
    "</font>"
   ]
  },
  {
   "cell_type": "markdown",
   "metadata": {},
   "source": [
    "-------\n",
    "<font color=\"red\">\n",
    "\n",
    "## Комментарий от наставника\n",
    "    \n",
    "Все же с доказательной базой нужно немного поработать)\n",
    "    \n",
    "</font>"
   ]
  },
  {
   "cell_type": "markdown",
   "metadata": {},
   "source": [
    "-------\n",
    "<font color=\"green\">\n",
    "\n",
    "## Комментарий от наставника\n",
    "    \n",
    "Теперь доказательная база выглядит просто прекрасно, можно ставить зачет)\n",
    "    \n",
    "</font>"
   ]
  },
  {
   "cell_type": "markdown",
   "metadata": {},
   "source": [
    "***"
   ]
  },
  {
   "cell_type": "markdown",
   "metadata": {},
   "source": [
    "## Чек-лист проверки"
   ]
  },
  {
   "cell_type": "markdown",
   "metadata": {},
   "source": [
    "Поставьте 'x' в выполненных пунктах. Далее нажмите Shift+Enter."
   ]
  },
  {
   "cell_type": "markdown",
   "metadata": {},
   "source": [
    "- [x]  Jupyter Notebook открыт\n",
    "- [ ]  Весь код выполняется без ошибок\n",
    "- [ ]  Ячейки с кодом расположены в порядке исполнения\n",
    "- [ ]  Выполнен шаг 1: данные загружены\n",
    "- [ ]  Выполнен шаг 2: получен ответ на вопрос об умножении матриц\n",
    "    - [ ]  Указан правильный вариант ответа\n",
    "    - [ ]  Вариант обоснован\n",
    "- [ ]  Выполнен шаг 3: предложен алгоритм преобразования\n",
    "    - [ ]  Алгоритм описан\n",
    "    - [ ]  Алгоритм обоснован\n",
    "- [ ]  Выполнен шаг 4: алгоритм проверен\n",
    "    - [ ]  Алгоритм реализован\n",
    "    - [ ]  Проведено сравнение качества моделей до и после преобразования"
   ]
  }
 ],
 "metadata": {
  "kernelspec": {
   "display_name": "Python 3",
   "language": "python",
   "name": "python3"
  },
  "language_info": {
   "codemirror_mode": {
    "name": "ipython",
    "version": 3
   },
   "file_extension": ".py",
   "mimetype": "text/x-python",
   "name": "python",
   "nbconvert_exporter": "python",
   "pygments_lexer": "ipython3",
   "version": "3.7.4"
  }
 },
 "nbformat": 4,
 "nbformat_minor": 2
}
