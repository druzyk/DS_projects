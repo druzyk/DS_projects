{
 "cells": [
  {
   "cell_type": "markdown",
   "metadata": {},
   "source": [
    "### <font color='blue'>*Комментарий наставника*</font>\n",
    "Далее в работе я буду оставлять свои комментарии в ячейках с заголовком \"Комментарий наставника 2\". <br>"
   ]
  },
  {
   "cell_type": "markdown",
   "metadata": {},
   "source": [
    "### <font color='blue'>*Комментарий наставника*</font>\n",
    "Привет, меня зовут Аня Прокашева и я проверяю твою работу.<br>\n",
    "Далее в работе я буду оставлять свои комментарии в ячейках с заголовком \"Комментарий наставника\". <br>\n",
    "Комментарии будут разделены на 3 типа:\n",
    "\n",
    "<div style=\"background-color:lightgreen\">\n",
    "\n",
    "### *Комментарий наставника*\n",
    "Все отлично, замечаний нет.\n",
    "</div>\n",
    "\n",
    "\n",
    "<div style=\"background-color:yellow\">\n",
    "\n",
    "### *Комментарий наставника*\n",
    "Есть комментарий к твоей работе, но он носит рекомендательный характер.\n",
    "</div>\n",
    "\n",
    "\n",
    "<div style=\"background-color:red\">\n",
    "\n",
    "### *Комментарий наставника*\n",
    "Есть замечание к работе, которое влияет на корректность выполнения. Данный пункт обязательно нужно исправить\n",
    "</div>"
   ]
  },
  {
   "cell_type": "markdown",
   "metadata": {},
   "source": [
    "# Описание проекта"
   ]
  },
  {
   "cell_type": "markdown",
   "metadata": {},
   "source": [
    "### Друзык Роман Богданович"
   ]
  },
  {
   "cell_type": "markdown",
   "metadata": {},
   "source": [
    "Допустим, вы работаете в добывающей компании «ГлавРосГосНефть». Нужно решить, где бурить новую скважину.\n",
    "\n",
    "Вам предоставлены пробы нефти в трёх регионах: в каждом 10 000 месторождений, где измерили качество нефти и объём её запасов. Постройте модель машинного обучения, которая поможет определить регион, где добыча принесёт наибольшую прибыль. Проанализируйте возможную прибыль и риски техникой *Bootstrap.*\n",
    "\n",
    "Шаги для выбора локации:\n",
    "\n",
    "- В избранном регионе ищут месторождения, для каждого определяют значения признаков;\n",
    "- Строят модель и оценивают объём запасов;\n",
    "- Выбирают месторождения с самым высокими оценками значений. Количество месторождений зависит от бюджета компании и стоимости разработки одной скважины;\n",
    "- Прибыль равна суммарной прибыли отобранных месторождений."
   ]
  },
  {
   "cell_type": "markdown",
   "metadata": {},
   "source": [
    "# 1. Загрузка и подготовка данных"
   ]
  },
  {
   "cell_type": "code",
   "execution_count": 1,
   "metadata": {},
   "outputs": [],
   "source": [
    "%matplotlib inline\n",
    "import pandas as pd\n",
    "import numpy as np\n",
    "import matplotlib.pyplot as plt\n",
    "from sklearn.model_selection import train_test_split\n",
    "from sklearn.linear_model import LinearRegression, Lasso, Ridge\n",
    "from sklearn.preprocessing import StandardScaler\n",
    "from sklearn.metrics import mean_squared_error"
   ]
  },
  {
   "cell_type": "markdown",
   "metadata": {},
   "source": [
    "*Загрузим данные и посмотрим на их структуру*"
   ]
  },
  {
   "cell_type": "code",
   "execution_count": 2,
   "metadata": {},
   "outputs": [],
   "source": [
    "field_0 = pd.read_csv('/datasets/geo_data_0.csv')\n",
    "field_1 = pd.read_csv('/datasets/geo_data_1.csv')\n",
    "field_2 = pd.read_csv('/datasets/geo_data_2.csv')"
   ]
  },
  {
   "cell_type": "markdown",
   "metadata": {},
   "source": [
    "***"
   ]
  },
  {
   "cell_type": "markdown",
   "metadata": {},
   "source": [
    "*Исследуем данные с первого региона*"
   ]
  },
  {
   "cell_type": "code",
   "execution_count": 3,
   "metadata": {},
   "outputs": [
    {
     "data": {
      "text/html": [
       "<div>\n",
       "<style scoped>\n",
       "    .dataframe tbody tr th:only-of-type {\n",
       "        vertical-align: middle;\n",
       "    }\n",
       "\n",
       "    .dataframe tbody tr th {\n",
       "        vertical-align: top;\n",
       "    }\n",
       "\n",
       "    .dataframe thead th {\n",
       "        text-align: right;\n",
       "    }\n",
       "</style>\n",
       "<table border=\"1\" class=\"dataframe\">\n",
       "  <thead>\n",
       "    <tr style=\"text-align: right;\">\n",
       "      <th></th>\n",
       "      <th>id</th>\n",
       "      <th>f0</th>\n",
       "      <th>f1</th>\n",
       "      <th>f2</th>\n",
       "      <th>product</th>\n",
       "    </tr>\n",
       "  </thead>\n",
       "  <tbody>\n",
       "    <tr>\n",
       "      <td>0</td>\n",
       "      <td>txEyH</td>\n",
       "      <td>0.705745</td>\n",
       "      <td>-0.497823</td>\n",
       "      <td>1.221170</td>\n",
       "      <td>105.280062</td>\n",
       "    </tr>\n",
       "    <tr>\n",
       "      <td>1</td>\n",
       "      <td>2acmU</td>\n",
       "      <td>1.334711</td>\n",
       "      <td>-0.340164</td>\n",
       "      <td>4.365080</td>\n",
       "      <td>73.037750</td>\n",
       "    </tr>\n",
       "    <tr>\n",
       "      <td>2</td>\n",
       "      <td>409Wp</td>\n",
       "      <td>1.022732</td>\n",
       "      <td>0.151990</td>\n",
       "      <td>1.419926</td>\n",
       "      <td>85.265647</td>\n",
       "    </tr>\n",
       "  </tbody>\n",
       "</table>\n",
       "</div>"
      ],
      "text/plain": [
       "      id        f0        f1        f2     product\n",
       "0  txEyH  0.705745 -0.497823  1.221170  105.280062\n",
       "1  2acmU  1.334711 -0.340164  4.365080   73.037750\n",
       "2  409Wp  1.022732  0.151990  1.419926   85.265647"
      ]
     },
     "execution_count": 3,
     "metadata": {},
     "output_type": "execute_result"
    }
   ],
   "source": [
    "field_0.head(3)"
   ]
  },
  {
   "cell_type": "code",
   "execution_count": 4,
   "metadata": {
    "scrolled": true
   },
   "outputs": [
    {
     "name": "stdout",
     "output_type": "stream",
     "text": [
      "<class 'pandas.core.frame.DataFrame'>\n",
      "RangeIndex: 100000 entries, 0 to 99999\n",
      "Data columns (total 5 columns):\n",
      "id         100000 non-null object\n",
      "f0         100000 non-null float64\n",
      "f1         100000 non-null float64\n",
      "f2         100000 non-null float64\n",
      "product    100000 non-null float64\n",
      "dtypes: float64(4), object(1)\n",
      "memory usage: 3.8+ MB\n"
     ]
    }
   ],
   "source": [
    "field_0.info()"
   ]
  },
  {
   "cell_type": "markdown",
   "metadata": {},
   "source": [
    "*Посмотрим на наличие пропусков*"
   ]
  },
  {
   "cell_type": "code",
   "execution_count": 5,
   "metadata": {},
   "outputs": [
    {
     "data": {
      "text/plain": [
       "id         0\n",
       "f0         0\n",
       "f1         0\n",
       "f2         0\n",
       "product    0\n",
       "dtype: int64"
      ]
     },
     "execution_count": 5,
     "metadata": {},
     "output_type": "execute_result"
    }
   ],
   "source": [
    "field_0.isna().sum()"
   ]
  },
  {
   "cell_type": "markdown",
   "metadata": {},
   "source": [
    "*Посмотрим на количество дубликатов в данных*"
   ]
  },
  {
   "cell_type": "code",
   "execution_count": 6,
   "metadata": {},
   "outputs": [
    {
     "data": {
      "text/plain": [
       "10"
      ]
     },
     "execution_count": 6,
     "metadata": {},
     "output_type": "execute_result"
    }
   ],
   "source": [
    "field_0.id.duplicated().sum()"
   ]
  },
  {
   "cell_type": "markdown",
   "metadata": {},
   "source": [
    "*Данные дубли не будут влиять на работу модели, так как столбец id не используется при дальнейшей работе*"
   ]
  },
  {
   "cell_type": "markdown",
   "metadata": {},
   "source": [
    "***\n",
    "***"
   ]
  },
  {
   "cell_type": "markdown",
   "metadata": {},
   "source": [
    "*Исследуем данные из второго региона*"
   ]
  },
  {
   "cell_type": "code",
   "execution_count": 7,
   "metadata": {
    "scrolled": true
   },
   "outputs": [
    {
     "data": {
      "text/html": [
       "<div>\n",
       "<style scoped>\n",
       "    .dataframe tbody tr th:only-of-type {\n",
       "        vertical-align: middle;\n",
       "    }\n",
       "\n",
       "    .dataframe tbody tr th {\n",
       "        vertical-align: top;\n",
       "    }\n",
       "\n",
       "    .dataframe thead th {\n",
       "        text-align: right;\n",
       "    }\n",
       "</style>\n",
       "<table border=\"1\" class=\"dataframe\">\n",
       "  <thead>\n",
       "    <tr style=\"text-align: right;\">\n",
       "      <th></th>\n",
       "      <th>id</th>\n",
       "      <th>f0</th>\n",
       "      <th>f1</th>\n",
       "      <th>f2</th>\n",
       "      <th>product</th>\n",
       "    </tr>\n",
       "  </thead>\n",
       "  <tbody>\n",
       "    <tr>\n",
       "      <td>0</td>\n",
       "      <td>kBEdx</td>\n",
       "      <td>-15.001348</td>\n",
       "      <td>-8.276000</td>\n",
       "      <td>-0.005876</td>\n",
       "      <td>3.179103</td>\n",
       "    </tr>\n",
       "    <tr>\n",
       "      <td>1</td>\n",
       "      <td>62mP7</td>\n",
       "      <td>14.272088</td>\n",
       "      <td>-3.475083</td>\n",
       "      <td>0.999183</td>\n",
       "      <td>26.953261</td>\n",
       "    </tr>\n",
       "    <tr>\n",
       "      <td>2</td>\n",
       "      <td>vyE1P</td>\n",
       "      <td>6.263187</td>\n",
       "      <td>-5.948386</td>\n",
       "      <td>5.001160</td>\n",
       "      <td>134.766305</td>\n",
       "    </tr>\n",
       "  </tbody>\n",
       "</table>\n",
       "</div>"
      ],
      "text/plain": [
       "      id         f0        f1        f2     product\n",
       "0  kBEdx -15.001348 -8.276000 -0.005876    3.179103\n",
       "1  62mP7  14.272088 -3.475083  0.999183   26.953261\n",
       "2  vyE1P   6.263187 -5.948386  5.001160  134.766305"
      ]
     },
     "execution_count": 7,
     "metadata": {},
     "output_type": "execute_result"
    }
   ],
   "source": [
    "field_1.head(3)"
   ]
  },
  {
   "cell_type": "code",
   "execution_count": 8,
   "metadata": {
    "scrolled": true
   },
   "outputs": [
    {
     "name": "stdout",
     "output_type": "stream",
     "text": [
      "<class 'pandas.core.frame.DataFrame'>\n",
      "RangeIndex: 100000 entries, 0 to 99999\n",
      "Data columns (total 5 columns):\n",
      "id         100000 non-null object\n",
      "f0         100000 non-null float64\n",
      "f1         100000 non-null float64\n",
      "f2         100000 non-null float64\n",
      "product    100000 non-null float64\n",
      "dtypes: float64(4), object(1)\n",
      "memory usage: 3.8+ MB\n"
     ]
    }
   ],
   "source": [
    "field_1.info()"
   ]
  },
  {
   "cell_type": "markdown",
   "metadata": {},
   "source": [
    "*Посмотрим на наличие пропусков*"
   ]
  },
  {
   "cell_type": "code",
   "execution_count": 9,
   "metadata": {},
   "outputs": [
    {
     "data": {
      "text/plain": [
       "id         0\n",
       "f0         0\n",
       "f1         0\n",
       "f2         0\n",
       "product    0\n",
       "dtype: int64"
      ]
     },
     "execution_count": 9,
     "metadata": {},
     "output_type": "execute_result"
    }
   ],
   "source": [
    "field_1.isna().sum()"
   ]
  },
  {
   "cell_type": "markdown",
   "metadata": {},
   "source": [
    "*Посмотрим на количество дубликатов в данных*"
   ]
  },
  {
   "cell_type": "code",
   "execution_count": 10,
   "metadata": {},
   "outputs": [
    {
     "data": {
      "text/plain": [
       "4"
      ]
     },
     "execution_count": 10,
     "metadata": {},
     "output_type": "execute_result"
    }
   ],
   "source": [
    "field_1.id.duplicated().sum()"
   ]
  },
  {
   "cell_type": "markdown",
   "metadata": {},
   "source": [
    "*Данные дубли не будут влиять на работу модели, так как столбец id не используется при дальнейшей работе*"
   ]
  },
  {
   "cell_type": "markdown",
   "metadata": {},
   "source": [
    "***\n",
    "***"
   ]
  },
  {
   "cell_type": "markdown",
   "metadata": {},
   "source": [
    "*Исследуем данные из третьего региона*"
   ]
  },
  {
   "cell_type": "code",
   "execution_count": 11,
   "metadata": {
    "scrolled": true
   },
   "outputs": [
    {
     "data": {
      "text/html": [
       "<div>\n",
       "<style scoped>\n",
       "    .dataframe tbody tr th:only-of-type {\n",
       "        vertical-align: middle;\n",
       "    }\n",
       "\n",
       "    .dataframe tbody tr th {\n",
       "        vertical-align: top;\n",
       "    }\n",
       "\n",
       "    .dataframe thead th {\n",
       "        text-align: right;\n",
       "    }\n",
       "</style>\n",
       "<table border=\"1\" class=\"dataframe\">\n",
       "  <thead>\n",
       "    <tr style=\"text-align: right;\">\n",
       "      <th></th>\n",
       "      <th>id</th>\n",
       "      <th>f0</th>\n",
       "      <th>f1</th>\n",
       "      <th>f2</th>\n",
       "      <th>product</th>\n",
       "    </tr>\n",
       "  </thead>\n",
       "  <tbody>\n",
       "    <tr>\n",
       "      <td>0</td>\n",
       "      <td>fwXo0</td>\n",
       "      <td>-1.146987</td>\n",
       "      <td>0.963328</td>\n",
       "      <td>-0.828965</td>\n",
       "      <td>27.758673</td>\n",
       "    </tr>\n",
       "    <tr>\n",
       "      <td>1</td>\n",
       "      <td>WJtFt</td>\n",
       "      <td>0.262778</td>\n",
       "      <td>0.269839</td>\n",
       "      <td>-2.530187</td>\n",
       "      <td>56.069697</td>\n",
       "    </tr>\n",
       "    <tr>\n",
       "      <td>2</td>\n",
       "      <td>ovLUW</td>\n",
       "      <td>0.194587</td>\n",
       "      <td>0.289035</td>\n",
       "      <td>-5.586433</td>\n",
       "      <td>62.871910</td>\n",
       "    </tr>\n",
       "  </tbody>\n",
       "</table>\n",
       "</div>"
      ],
      "text/plain": [
       "      id        f0        f1        f2    product\n",
       "0  fwXo0 -1.146987  0.963328 -0.828965  27.758673\n",
       "1  WJtFt  0.262778  0.269839 -2.530187  56.069697\n",
       "2  ovLUW  0.194587  0.289035 -5.586433  62.871910"
      ]
     },
     "execution_count": 11,
     "metadata": {},
     "output_type": "execute_result"
    }
   ],
   "source": [
    "field_2.head(3)"
   ]
  },
  {
   "cell_type": "code",
   "execution_count": 12,
   "metadata": {
    "scrolled": true
   },
   "outputs": [
    {
     "name": "stdout",
     "output_type": "stream",
     "text": [
      "<class 'pandas.core.frame.DataFrame'>\n",
      "RangeIndex: 100000 entries, 0 to 99999\n",
      "Data columns (total 5 columns):\n",
      "id         100000 non-null object\n",
      "f0         100000 non-null float64\n",
      "f1         100000 non-null float64\n",
      "f2         100000 non-null float64\n",
      "product    100000 non-null float64\n",
      "dtypes: float64(4), object(1)\n",
      "memory usage: 3.8+ MB\n"
     ]
    }
   ],
   "source": [
    "field_2.info()"
   ]
  },
  {
   "cell_type": "markdown",
   "metadata": {},
   "source": [
    "*Посмотрим на наличие пропусков*"
   ]
  },
  {
   "cell_type": "code",
   "execution_count": 13,
   "metadata": {},
   "outputs": [
    {
     "data": {
      "text/plain": [
       "id         0\n",
       "f0         0\n",
       "f1         0\n",
       "f2         0\n",
       "product    0\n",
       "dtype: int64"
      ]
     },
     "execution_count": 13,
     "metadata": {},
     "output_type": "execute_result"
    }
   ],
   "source": [
    "field_2.isna().sum()"
   ]
  },
  {
   "cell_type": "markdown",
   "metadata": {},
   "source": [
    "*Посмотрим на количество дубликатов в данных*"
   ]
  },
  {
   "cell_type": "code",
   "execution_count": 14,
   "metadata": {},
   "outputs": [
    {
     "data": {
      "text/plain": [
       "4"
      ]
     },
     "execution_count": 14,
     "metadata": {},
     "output_type": "execute_result"
    }
   ],
   "source": [
    "field_2.id.duplicated().sum()"
   ]
  },
  {
   "cell_type": "markdown",
   "metadata": {},
   "source": [
    "*Данные дубли не будут влиять на работу модели, так как столбец id не используется при дальнейшей работе*"
   ]
  },
  {
   "cell_type": "markdown",
   "metadata": {},
   "source": [
    "***"
   ]
  },
  {
   "cell_type": "markdown",
   "metadata": {},
   "source": [
    "### Вывод"
   ]
  },
  {
   "cell_type": "markdown",
   "metadata": {},
   "source": [
    "Исходные данные достались довольно чистые, без пропусков, с корректными типами данных в признаках. Единственное что мы нашли - дубли id."
   ]
  },
  {
   "cell_type": "markdown",
   "metadata": {},
   "source": [
    "<div style=\"background-color:yellow\">\n",
    "\n",
    "### *Комментарий наставника*\n",
    "Отлично, что ты нашел дубли при анализе данных. Но можно было и не заменять id на 1, т.к. в дальнейшем ты все равно откидываешь столбец с id. \n",
    "</div>"
   ]
  },
  {
   "cell_type": "markdown",
   "metadata": {},
   "source": [
    "<div style=\"background-color:gray\">\n",
    "\n",
    "### *Комментарий студента*\n",
    "Удалил подстановку к id 1\n",
    "</div>"
   ]
  },
  {
   "cell_type": "markdown",
   "metadata": {},
   "source": [
    "***\n",
    "***"
   ]
  },
  {
   "cell_type": "markdown",
   "metadata": {},
   "source": [
    "# 2. Обучение и проверка модели"
   ]
  },
  {
   "cell_type": "markdown",
   "metadata": {},
   "source": [
    "*Обучим три модели линейной регрессии для каждого месторождения. Каждый набор данных разобъем на обучающую и тестовую выборки в пропорции 75:25.*"
   ]
  },
  {
   "cell_type": "markdown",
   "metadata": {},
   "source": [
    "*Подготовим наши наборы данных, разбив их на признаки и целевую переменную, отбросив id, так как мы не планируем привязываться к конкретной скважине, а хотим оценить рентабельность месторождения в среднем*"
   ]
  },
  {
   "cell_type": "code",
   "execution_count": 15,
   "metadata": {},
   "outputs": [],
   "source": [
    "'''\n",
    "Функция, которая принимает датасет и модель, далее разбивает датасет на целевую перменную и признаки, обучается на модели\n",
    "и возвращает предсказания и RMSE\n",
    "'''\n",
    "def model_prediction(data):\n",
    "    model = LinearRegression()\n",
    "    X = data[['f0', 'f1', 'f2']]\n",
    "    y = data['product']\n",
    "    X_train, X_test, y_train, y_test = train_test_split(X, y, test_size=.25, random_state=42)\n",
    "    predicted = pd.Series(model.fit(X_train, y_train).predict(X_test), index=y_test.index)\n",
    "    score = mean_squared_error(y_test, predicted) ** 0.5\n",
    "    return y_test, predicted, score"
   ]
  },
  {
   "cell_type": "code",
   "execution_count": 16,
   "metadata": {},
   "outputs": [],
   "source": [
    "#Получим предсказания и RMSE по трем месторождениям\n",
    "target_field_0, pred_field_0, rmse_field_0 = model_prediction(field_0)\n",
    "target_field_1, pred_field_1, rmse_field_1 = model_prediction(field_1)\n",
    "target_field_2, pred_field_2, rmse_field_2 = model_prediction(field_2)"
   ]
  },
  {
   "cell_type": "code",
   "execution_count": 17,
   "metadata": {
    "scrolled": true
   },
   "outputs": [
    {
     "data": {
      "text/html": [
       "<div>\n",
       "<style scoped>\n",
       "    .dataframe tbody tr th:only-of-type {\n",
       "        vertical-align: middle;\n",
       "    }\n",
       "\n",
       "    .dataframe tbody tr th {\n",
       "        vertical-align: top;\n",
       "    }\n",
       "\n",
       "    .dataframe thead th {\n",
       "        text-align: right;\n",
       "    }\n",
       "</style>\n",
       "<table border=\"1\" class=\"dataframe\">\n",
       "  <thead>\n",
       "    <tr style=\"text-align: right;\">\n",
       "      <th></th>\n",
       "      <th>Предсказанный средний запас сырья</th>\n",
       "      <th>RMSE модели</th>\n",
       "    </tr>\n",
       "  </thead>\n",
       "  <tbody>\n",
       "    <tr>\n",
       "      <td>Месторождение fields_0</td>\n",
       "      <td>92.398800</td>\n",
       "      <td>37.756600</td>\n",
       "    </tr>\n",
       "    <tr>\n",
       "      <td>Месторождение fields_1</td>\n",
       "      <td>68.712878</td>\n",
       "      <td>0.890280</td>\n",
       "    </tr>\n",
       "    <tr>\n",
       "      <td>Месторождение fields_2</td>\n",
       "      <td>94.771024</td>\n",
       "      <td>40.145872</td>\n",
       "    </tr>\n",
       "  </tbody>\n",
       "</table>\n",
       "</div>"
      ],
      "text/plain": [
       "                        Предсказанный средний запас сырья  RMSE модели\n",
       "Месторождение fields_0                          92.398800    37.756600\n",
       "Месторождение fields_1                          68.712878     0.890280\n",
       "Месторождение fields_2                          94.771024    40.145872"
      ]
     },
     "execution_count": 17,
     "metadata": {},
     "output_type": "execute_result"
    }
   ],
   "source": [
    "#Для удобного представления упакуем наши результаты в DataFrame\n",
    "results = pd.DataFrame(data=[[pred_field_0.mean(), rmse_field_0], \n",
    "                             [pred_field_1.mean(), rmse_field_1], \n",
    "                             [pred_field_2.mean(), rmse_field_2]],\n",
    "                       index=['Месторождение fields_0', 'Месторождение fields_1','Месторождение fields_2'], \n",
    "                       columns=['Предсказанный средний запас сырья', 'RMSE модели'])\n",
    "results"
   ]
  },
  {
   "cell_type": "markdown",
   "metadata": {},
   "source": [
    "### Вывод"
   ]
  },
  {
   "cell_type": "markdown",
   "metadata": {},
   "source": [
    "*Мы провели обучение модели по трем месторождениям и получили предсказания на тестовых данных. По полученным данным мы видим что средние запасы сырья на месторождениях с индексом 0 и 2 примерно соизмеримы друг с другом, но точность RMSE модели по этим данным - оставляет желать лучшего. В то же время запасы на месторождении с индексом 1 гораздо меньше предыдущих территорий, но точность модели практически максимальная.*"
   ]
  },
  {
   "cell_type": "markdown",
   "metadata": {},
   "source": [
    "<div style=\"background-color:yellow\">\n",
    "\n",
    "### *Комментарий наставника*\n",
    "Очень хорошим решением было записать все данные в dataframe - это действительно удобно. <br>\n",
    "Единственное, инициирование модели я бы перенесла в функцию model_prediction, у нас же и так для каждого региона обучается и строится отдельная модель. \n",
    "</div>"
   ]
  },
  {
   "cell_type": "markdown",
   "metadata": {},
   "source": [
    "<div style=\"background-color:gray\">\n",
    "\n",
    "### *Комментарий студента*\n",
    "Засунул инициирование модели в тело функции\n",
    "</div>"
   ]
  },
  {
   "cell_type": "markdown",
   "metadata": {},
   "source": [
    "<div style=\"background-color:lightgreen\">\n",
    "\n",
    "### *Комментарий наставника 2*\n",
    "Отлично!)\n",
    "</div>"
   ]
  },
  {
   "cell_type": "markdown",
   "metadata": {},
   "source": [
    "***\n",
    "***"
   ]
  },
  {
   "cell_type": "markdown",
   "metadata": {},
   "source": [
    "# 3. Подготовка к расчёту прибыли"
   ]
  },
  {
   "cell_type": "markdown",
   "metadata": {},
   "source": [
    "*Сохраним все необходимые экономические константы для расчета прибыли/убытков месторождений*"
   ]
  },
  {
   "cell_type": "code",
   "execution_count": 18,
   "metadata": {},
   "outputs": [],
   "source": [
    "#Максимальное количество разведываемых скважин\n",
    "MAXIMUM_NUMBERS_OF_WELLS = 500\n",
    "\n",
    "#Максимальный бюджет на разработку\n",
    "BUDGET = 10 * 10**9\n",
    "\n",
    "#Стоимость разработки одной скважины\n",
    "BUDGET_TO_ONE_WELL = 50 * 10**6\n",
    "\n",
    "#Стоимость тысячи баррелей нефти\n",
    "PRICE_TO_THOUSAND_BARREL = 4500 * 1000\n",
    "\n",
    "#Максимальное количество скважин, которое возможно разработать в рамках бюджета\n",
    "MAXIMUM_EXPLORED_WELL = BUDGET / BUDGET_TO_ONE_WELL"
   ]
  },
  {
   "cell_type": "markdown",
   "metadata": {},
   "source": [
    "*Расчитаем минимальный средний объем сырья в месторождениях региона, достаточный для его разработки, по следующей формуле:*"
   ]
  },
  {
   "cell_type": "markdown",
   "metadata": {},
   "source": [
    "*Минимальный средний объем сырья умножим на стоимость одного барреля нефти и умножим на максимальное количество скважин, которое возможно разработать в рамках бюджета, данная сумма должна быть равна максимальному бюджету на разработку.*"
   ]
  },
  {
   "cell_type": "markdown",
   "metadata": {},
   "source": [
    "*Из этого простого уравнения мы можем найти минимальный средний обзем сырья, как максимальный бюджет на разработку, деоенный на произведение максимального количества скважин на стоимость одного барреля*"
   ]
  },
  {
   "cell_type": "code",
   "execution_count": 19,
   "metadata": {},
   "outputs": [
    {
     "name": "stdout",
     "output_type": "stream",
     "text": [
      "Минимальный средний объем сырья в месторождениях региона: 11.11 тыс. баррелей\n"
     ]
    }
   ],
   "source": [
    "MIN_MEAN_VOLUME_MINING = BUDGET / (MAXIMUM_EXPLORED_WELL * PRICE_TO_THOUSAND_BARREL)\n",
    "print('Минимальный средний объем сырья в месторождениях региона: {:.2f} тыс. баррелей'.format(MIN_MEAN_VOLUME_MINING))"
   ]
  },
  {
   "cell_type": "code",
   "execution_count": 20,
   "metadata": {},
   "outputs": [],
   "source": [
    "'''\n",
    "Функция, которая принимает массив с предсказанным объемом нефти и количеством скважин, а возвращает упорядоченный по\n",
    "убыванию массив предполагаемой прибыли (в млн. рублей) со скважины, при 100% выработке нефти.\n",
    "'''\n",
    "def revenue_mining(predicted, count):\n",
    "    return (PRICE_TO_THOUSAND_BARREL * predicted[:count] - BUDGET_TO_ONE_WELL)"
   ]
  },
  {
   "cell_type": "markdown",
   "metadata": {},
   "source": [
    "### Вывод"
   ]
  },
  {
   "cell_type": "markdown",
   "metadata": {},
   "source": [
    "*Предварительно, по нашим расчетам, месторождение, в котором средний запас нефти в скважине больше 11 тыс. баррелей должно быть потенциально прибыльно*"
   ]
  },
  {
   "cell_type": "markdown",
   "metadata": {},
   "source": [
    "<div style=\"background-color:red\">\n",
    "\n",
    "### *Комментарий наставника*\n",
    "В данном разделе у меня есть несколько комментариев:\n",
    "1. Были созданы константные переменные, но в функции revenue_mining ты их частично не используешь, например 4500 можно заменить на PRICE_TO_BARREL, лучше это исправить. И для чего домножение на 1000?\n",
    "2. Приведение к миллионам я бы лучше сделала в уже при использовании функции, а не внутри нее. У тебя все константы в рублях и эта функция в миллионах легко может запутать тебя. \n",
    "3. Стоит пересмотреть саму функцию вычисления дохода. Сделай ее пожалуйста поэтапной и сопроводи комментариями. Сейчас есть ошибка, но я никак не могу найти в какой момент она происходит - на этапе вычисления дохода или дальше.\n",
    "</div>"
   ]
  },
  {
   "cell_type": "markdown",
   "metadata": {},
   "source": [
    "<div style=\"background-color:gray\">\n",
    "\n",
    "### *Комментарий студента*\n",
    "Про ошибку я понял, когда уже отправил проект на проверку, а именно:\n",
    " - Делаю в функции revenue_mining сортировку по убыванию, что не нужно делать, так как мы хотим брать произвольные скважины, а не лучшие (по комментариям преподавателя из слаки). Убрал сортировку\n",
    " - Заменил 4500 на переменную PRICE_TO_THOUSAND_BARREL, потому что запасы даны в тысячах баррелей, логично чтобы стоимость была тоже за тысячу баррелей\n",
    " - Домножение на 1000 перенес в константу PRICE_TO_THOUSAND_BARREL, пояснение пунктом выше\n",
    "    \n",
    "    Ниже всё пояснил в проекте\n",
    "</div>"
   ]
  },
  {
   "cell_type": "markdown",
   "metadata": {},
   "source": [
    "***\n",
    "***"
   ]
  },
  {
   "cell_type": "markdown",
   "metadata": {},
   "source": [
    "# 4. Расчёт прибыли и рисков "
   ]
  },
  {
   "cell_type": "markdown",
   "metadata": {},
   "source": [
    "*Мы предполагаем, что компания может взять для исследования 500 скважин, а физически начать добычу на 200 скважинах из 500 исследованных, с самыми высокими оценками запасов, что становится ясным из предполагаемого бюджета на разработку и стоимости разработки одной скважины.*"
   ]
  },
  {
   "cell_type": "markdown",
   "metadata": {},
   "source": [
    "*Риск убытков определим как отношение убыточных скважин к общему количеству разрабатываемых скважин*"
   ]
  },
  {
   "cell_type": "code",
   "execution_count": 27,
   "metadata": {},
   "outputs": [],
   "source": [
    "def bootstrap_sample(predicted, n_well=500, n_explored=200):\n",
    "    \n",
    "    state = np.random.RandomState(45)    \n",
    "    total_values = []\n",
    "    minus_values = []\n",
    "    proba_minus_values = []\n",
    "    \n",
    "    for i in range(1000):\n",
    "        #Выбираем n_well произвольных скважин \n",
    "        prediction_sample = predicted.sample(n=n_well, replace=True, random_state=state)\n",
    "        \n",
    "        #Считаем прибыль n_explored скважинам из n_well выбранных\n",
    "        total_revenue = revenue_mining(prediction_sample, n_explored)\n",
    "        \n",
    "        #выбираем из выборки скважины с отрицательной доходностью\n",
    "        minus_revenue = total_revenue[total_revenue<=0]\n",
    "        \n",
    "        #Считаем вероятность получить убыток\n",
    "        proba_minus_revenue = len(minus_revenue) / len(total_revenue)\n",
    "        \n",
    "        #Сохраним прибыль\n",
    "        total_values.append(total_revenue.sum())\n",
    "        \n",
    "        #Coхраним убытки\n",
    "        minus_values.append(minus_revenue.sum())\n",
    "        \n",
    "        #Сохраним вероятности убытков\n",
    "        proba_minus_values.append(proba_minus_revenue)\n",
    "        \n",
    "\n",
    "    #массивы приведем к Series значений в млн. рублей\n",
    "    total_values = pd.Series(total_values) / 1000000\n",
    "    minus_values = pd.Series(minus_values) / 1000000\n",
    "    proba_minus_values = pd.Series(proba_minus_values)\n",
    "    \n",
    "    #Cредняя прибыль\n",
    "    total_mean = total_values.mean() \n",
    "    #Нижняя граница доверительного интервала средней прибыли\n",
    "    lower_total_mean = round(total_values.quantile(.025), 2)\n",
    "    #Верхняя граница доверительного интервала средней прибыли\n",
    "    higher_total_mean = round(total_values.quantile(.975), 2)\n",
    "    \n",
    "    #Cредний убыток\n",
    "    minus_values_mean = minus_values.mean()\n",
    "    #Нижняя граница доверительного интервала среднего убытка\n",
    "    lower_minus_values = round(minus_values.quantile(.025), 2)\n",
    "    #Верхняя граница доверительного интервала среднего убытка\n",
    "    higher_minus_values = round(minus_values.quantile(.975), 2)\n",
    "    \n",
    "    #Cредняя вероятность получить убыток\n",
    "    proba_minus_values_mean = proba_minus_values.mean()\n",
    "    #Нижняя граница доверительного интервала вероятности убытка\n",
    "    lower_proba_minus_values = round(proba_minus_values.quantile(.025), 2)\n",
    "    #Верхняя граница доверительного интервала вероятности убытка\n",
    "    higher_proba_minus_values = round(proba_minus_values.quantile(.975), 2)\n",
    "\n",
    "    return pd.DataFrame(data=[[total_mean], [(lower_total_mean, higher_total_mean)], \n",
    "                              [minus_values_mean], [(lower_minus_values, higher_minus_values)], \n",
    "                              [proba_minus_values_mean], [(lower_proba_minus_values, higher_proba_minus_values)]], \n",
    "                        index=['Средняя прибыль', 'Доверительный интервал средней прибыли', \n",
    "                               'Cредний убыток', 'Доверительный интервал среднего убытка', \n",
    "                               'Cредняя вероятность убыта', 'Доверительный интервал вероятности убытка'])"
   ]
  },
  {
   "cell_type": "markdown",
   "metadata": {},
   "source": [
    "*Применим нашу функцию к трем данным о месторождениях*"
   ]
  },
  {
   "cell_type": "code",
   "execution_count": 28,
   "metadata": {},
   "outputs": [],
   "source": [
    "data_field_0 = bootstrap_sample(pred_field_0)\n",
    "data_field_0.columns = ['Месторождение fields_0']\n",
    "data_field_1 = bootstrap_sample(pred_field_1)\n",
    "data_field_1.columns = ['Месторождение fields_1']\n",
    "data_field_2 = bootstrap_sample(pred_field_2)\n",
    "data_field_2.columns = ['Месторождение fields_2']"
   ]
  },
  {
   "cell_type": "code",
   "execution_count": 23,
   "metadata": {},
   "outputs": [],
   "source": [
    "#Объеденим получившиеся результаты в едунную сумарную таблицу\n",
    "results = results.merge(data_field_2\n",
    "                        .merge(data_field_1\n",
    "                               .merge(data_field_0, \n",
    "                                      left_index=True, \n",
    "                                      right_index=True), \n",
    "                               left_index=True, \n",
    "                               right_index=True).T, \n",
    "                        left_index=True, \n",
    "                        right_index=True).T"
   ]
  },
  {
   "cell_type": "markdown",
   "metadata": {},
   "source": [
    "*Посмотрим на результат*"
   ]
  },
  {
   "cell_type": "code",
   "execution_count": 24,
   "metadata": {
    "scrolled": true
   },
   "outputs": [
    {
     "data": {
      "text/html": [
       "<div>\n",
       "<style scoped>\n",
       "    .dataframe tbody tr th:only-of-type {\n",
       "        vertical-align: middle;\n",
       "    }\n",
       "\n",
       "    .dataframe tbody tr th {\n",
       "        vertical-align: top;\n",
       "    }\n",
       "\n",
       "    .dataframe thead th {\n",
       "        text-align: right;\n",
       "    }\n",
       "</style>\n",
       "<table border=\"1\" class=\"dataframe\">\n",
       "  <thead>\n",
       "    <tr style=\"text-align: right;\">\n",
       "      <th></th>\n",
       "      <th>Месторождение fields_0</th>\n",
       "      <th>Месторождение fields_1</th>\n",
       "      <th>Месторождение fields_2</th>\n",
       "    </tr>\n",
       "  </thead>\n",
       "  <tbody>\n",
       "    <tr>\n",
       "      <td>Предсказанный средний запас сырья</td>\n",
       "      <td>92.3988</td>\n",
       "      <td>68.7129</td>\n",
       "      <td>94.771</td>\n",
       "    </tr>\n",
       "    <tr>\n",
       "      <td>RMSE модели</td>\n",
       "      <td>37.7566</td>\n",
       "      <td>0.89028</td>\n",
       "      <td>40.1459</td>\n",
       "    </tr>\n",
       "    <tr>\n",
       "      <td>Средняя прибыль</td>\n",
       "      <td>73144</td>\n",
       "      <td>51723.8</td>\n",
       "      <td>75330.2</td>\n",
       "    </tr>\n",
       "    <tr>\n",
       "      <td>Доверительный интервал средней прибыли</td>\n",
       "      <td>(70128.41, 76176.73)</td>\n",
       "      <td>(45838.73, 57253.66)</td>\n",
       "      <td>(72762.71, 77916.31)</td>\n",
       "    </tr>\n",
       "    <tr>\n",
       "      <td>Cредний убыток</td>\n",
       "      <td>-1.63835</td>\n",
       "      <td>-1435.1</td>\n",
       "      <td>0</td>\n",
       "    </tr>\n",
       "    <tr>\n",
       "      <td>Доверительный интервал среднего убытка</td>\n",
       "      <td>(-11.73, 0.0)</td>\n",
       "      <td>(-1877.82, -988.74)</td>\n",
       "      <td>(0.0, 0.0)</td>\n",
       "    </tr>\n",
       "    <tr>\n",
       "      <td>Cредняя вероятность убыта</td>\n",
       "      <td>0.00023</td>\n",
       "      <td>0.167395</td>\n",
       "      <td>0</td>\n",
       "    </tr>\n",
       "    <tr>\n",
       "      <td>Доверительный интервал вероятности убытка</td>\n",
       "      <td>(0.0, 0.0)</td>\n",
       "      <td>(0.12, 0.22)</td>\n",
       "      <td>(0.0, 0.0)</td>\n",
       "    </tr>\n",
       "  </tbody>\n",
       "</table>\n",
       "</div>"
      ],
      "text/plain": [
       "                                          Месторождение fields_0  \\\n",
       "Предсказанный средний запас сырья                        92.3988   \n",
       "RMSE модели                                              37.7566   \n",
       "Средняя прибыль                                            73144   \n",
       "Доверительный интервал средней прибыли      (70128.41, 76176.73)   \n",
       "Cредний убыток                                          -1.63835   \n",
       "Доверительный интервал среднего убытка             (-11.73, 0.0)   \n",
       "Cредняя вероятность убыта                                0.00023   \n",
       "Доверительный интервал вероятности убытка             (0.0, 0.0)   \n",
       "\n",
       "                                          Месторождение fields_1  \\\n",
       "Предсказанный средний запас сырья                        68.7129   \n",
       "RMSE модели                                              0.89028   \n",
       "Средняя прибыль                                          51723.8   \n",
       "Доверительный интервал средней прибыли      (45838.73, 57253.66)   \n",
       "Cредний убыток                                           -1435.1   \n",
       "Доверительный интервал среднего убытка       (-1877.82, -988.74)   \n",
       "Cредняя вероятность убыта                               0.167395   \n",
       "Доверительный интервал вероятности убытка           (0.12, 0.22)   \n",
       "\n",
       "                                          Месторождение fields_2  \n",
       "Предсказанный средний запас сырья                         94.771  \n",
       "RMSE модели                                              40.1459  \n",
       "Средняя прибыль                                          75330.2  \n",
       "Доверительный интервал средней прибыли      (72762.71, 77916.31)  \n",
       "Cредний убыток                                                 0  \n",
       "Доверительный интервал среднего убытка                (0.0, 0.0)  \n",
       "Cредняя вероятность убыта                                      0  \n",
       "Доверительный интервал вероятности убытка             (0.0, 0.0)  "
      ]
     },
     "execution_count": 24,
     "metadata": {},
     "output_type": "execute_result"
    }
   ],
   "source": [
    "results"
   ]
  },
  {
   "cell_type": "markdown",
   "metadata": {},
   "source": [
    "### Вывод"
   ]
  },
  {
   "cell_type": "markdown",
   "metadata": {},
   "source": [
    " - По полученым результатам, мы можем сделать вывод, что рентабельность добычи будет исключительно положительной, только на месторождении field_2. \n",
    " - Месторождение field_1 не рекомендовано к разработке, так как средняя вероятность получения убытка составляет 16%.  \n",
    " - Месторождение fields_0 так же имеет очень низкую вероятность получения убытка, разработка допустима."
   ]
  },
  {
   "cell_type": "markdown",
   "metadata": {},
   "source": [
    "<div style=\"background-color:yellow\">\n",
    "\n",
    "### *Комментарий наставника*\n",
    "Спасибо за проделанную работу, но нужно поправить комментарии. В коде есть ошибка - у нас не все регионы побеждают и подходят под условия. Кроме того, риски не равны 0%. Пересмотрела весь твой код, но никак не могу найти ошибку. Если ты добавишь еще немного комментариев по ходу работы возможно я смогу найти ошибку, для начала можешь разбить и описать более детально функцию расчета дохода - ошибка где-то на этом этапе.\n",
    "</div>"
   ]
  },
  {
   "cell_type": "markdown",
   "metadata": {},
   "source": [
    "<div style=\"background-color:gray\">\n",
    "\n",
    "### *Комментарий студента*\n",
    "Я понял свою ошибку после комментариев, принципиально не верно понял изначально задание и выполнил некорректно расчет, сейчас исправился, с подробными комментариями каждой строчки кода, чтобы было супер-понятно\n",
    "</div>"
   ]
  },
  {
   "cell_type": "markdown",
   "metadata": {},
   "source": [
    "<div style=\"background-color:lightgreen\">\n",
    "\n",
    "### *Комментарий наставника 2*\n",
    "Все отлично, спасибо за детальное описание. <br>\n",
    "Молодец, что заранее понял ошибки ) <br>\n",
    "Работа принята, успехов тебе с дальнейшими заданиями)\n",
    "</div>"
   ]
  },
  {
   "cell_type": "markdown",
   "metadata": {},
   "source": [
    "# Чек-лист готовности проекта"
   ]
  },
  {
   "cell_type": "markdown",
   "metadata": {},
   "source": [
    "Поставьте 'x' в выполненных пунктах. Далее нажмите Shift+Enter."
   ]
  },
  {
   "cell_type": "markdown",
   "metadata": {},
   "source": [
    "- [x]  Jupyter Notebook открыт\n",
    "- [ ]  Весь код выполняется без ошибок\n",
    "- [ ]  Ячейки с кодом расположены в порядке исполнения\n",
    "- [ ]  Выполнен шаг 1: данные подготовлены\n",
    "- [ ]  Выполнен шаг 2: модели обучены и проверены\n",
    "    - [ ]  Данные корректно разбиты на обучающую и валидационную выборки\n",
    "    - [ ]  Модели обучены, предсказания сделаны\n",
    "    - [ ]  Предсказания и правильные ответы на валидационной выборке сохранены\n",
    "    - [ ]  На экране напечатаны результаты\n",
    "    - [ ]  Сделаны выводы\n",
    "- [ ]  Выполнен шаг 3: проведена подготовка к расчёту прибыли\n",
    "    - [ ]  Для всех ключевых значений созданы константы Python\n",
    "    - [ ]  Посчитано минимальное среднее количество продукта в месторождениях региона, достаточное для разработки\n",
    "    - [ ]  По предыдущему пункту сделаны выводы\n",
    "    - [ ]  Написана функция расчёта прибыли\n",
    "- [ ]  Выполнен шаг 4: посчитаны риски и прибыль\n",
    "    - [ ]  Проведена процедура *Bootstrap*\n",
    "    - [ ]  Все параметры бутстрепа соответствуют условию\n",
    "    - [ ]  Найдены все нужные величины\n",
    "    - [ ]  Предложен регион для разработки месторождения\n",
    "    - [ ]  Выбор региона обоснован"
   ]
  }
 ],
 "metadata": {
  "kernelspec": {
   "display_name": "Python 3",
   "language": "python",
   "name": "python3"
  },
  "language_info": {
   "codemirror_mode": {
    "name": "ipython",
    "version": 3
   },
   "file_extension": ".py",
   "mimetype": "text/x-python",
   "name": "python",
   "nbconvert_exporter": "python",
   "pygments_lexer": "ipython3",
   "version": "3.7.4"
  }
 },
 "nbformat": 4,
 "nbformat_minor": 2
}
