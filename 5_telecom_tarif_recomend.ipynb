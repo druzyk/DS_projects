{
 "cells": [
  {
   "cell_type": "markdown",
   "metadata": {},
   "source": [
    "# Рекомендация тарифов"
   ]
  },
  {
   "cell_type": "markdown",
   "metadata": {},
   "source": [
    "### Друзык Роман Богданович"
   ]
  },
  {
   "cell_type": "markdown",
   "metadata": {},
   "source": [
    "В вашем распоряжении данные о поведении клиентов, которые уже перешли на эти тарифы (из проекта курса «Статистический анализ данных»). Нужно построить модель для задачи классификации, которая выберет подходящий тариф. Предобработка данных не понадобится — вы её уже сделали.\n",
    "\n",
    "Постройте модель с максимально большим значением *accuracy*. Чтобы сдать проект успешно, нужно довести долю правильных ответов по крайней мере до 0.75. Проверьте *accuracy* на тестовой выборке самостоятельно."
   ]
  },
  {
   "cell_type": "markdown",
   "metadata": {},
   "source": [
    "## 1. Откроем и изучим файл"
   ]
  },
  {
   "cell_type": "code",
   "execution_count": 2,
   "metadata": {},
   "outputs": [],
   "source": [
    "import pandas as pd\n",
    "import numpy as np\n",
    "from sklearn.model_selection import train_test_split\n",
    "from sklearn.metrics import accuracy_score\n",
    "from sklearn.metrics import roc_auc_score\n",
    "from sklearn.metrics import roc_curve\n",
    "from sklearn import metrics\n",
    "import matplotlib.pyplot as plt"
   ]
  },
  {
   "cell_type": "markdown",
   "metadata": {},
   "source": [
    "Загрузим датасет и посмотри на него"
   ]
  },
  {
   "cell_type": "code",
   "execution_count": 3,
   "metadata": {},
   "outputs": [],
   "source": [
    "data = pd.read_csv('/datasets/users_behavior.csv')"
   ]
  },
  {
   "cell_type": "code",
   "execution_count": 4,
   "metadata": {},
   "outputs": [
    {
     "data": {
      "text/plain": [
       "(3214, 5)"
      ]
     },
     "execution_count": 4,
     "metadata": {},
     "output_type": "execute_result"
    }
   ],
   "source": [
    "data.shape"
   ]
  },
  {
   "cell_type": "code",
   "execution_count": 5,
   "metadata": {
    "scrolled": true
   },
   "outputs": [
    {
     "data": {
      "text/html": [
       "<div>\n",
       "<style scoped>\n",
       "    .dataframe tbody tr th:only-of-type {\n",
       "        vertical-align: middle;\n",
       "    }\n",
       "\n",
       "    .dataframe tbody tr th {\n",
       "        vertical-align: top;\n",
       "    }\n",
       "\n",
       "    .dataframe thead th {\n",
       "        text-align: right;\n",
       "    }\n",
       "</style>\n",
       "<table border=\"1\" class=\"dataframe\">\n",
       "  <thead>\n",
       "    <tr style=\"text-align: right;\">\n",
       "      <th></th>\n",
       "      <th>calls</th>\n",
       "      <th>minutes</th>\n",
       "      <th>messages</th>\n",
       "      <th>mb_used</th>\n",
       "      <th>is_ultra</th>\n",
       "    </tr>\n",
       "  </thead>\n",
       "  <tbody>\n",
       "    <tr>\n",
       "      <td>0</td>\n",
       "      <td>40.0</td>\n",
       "      <td>311.90</td>\n",
       "      <td>83.0</td>\n",
       "      <td>19915.42</td>\n",
       "      <td>0</td>\n",
       "    </tr>\n",
       "    <tr>\n",
       "      <td>1</td>\n",
       "      <td>85.0</td>\n",
       "      <td>516.75</td>\n",
       "      <td>56.0</td>\n",
       "      <td>22696.96</td>\n",
       "      <td>0</td>\n",
       "    </tr>\n",
       "    <tr>\n",
       "      <td>2</td>\n",
       "      <td>77.0</td>\n",
       "      <td>467.66</td>\n",
       "      <td>86.0</td>\n",
       "      <td>21060.45</td>\n",
       "      <td>0</td>\n",
       "    </tr>\n",
       "    <tr>\n",
       "      <td>3</td>\n",
       "      <td>106.0</td>\n",
       "      <td>745.53</td>\n",
       "      <td>81.0</td>\n",
       "      <td>8437.39</td>\n",
       "      <td>1</td>\n",
       "    </tr>\n",
       "    <tr>\n",
       "      <td>4</td>\n",
       "      <td>66.0</td>\n",
       "      <td>418.74</td>\n",
       "      <td>1.0</td>\n",
       "      <td>14502.75</td>\n",
       "      <td>0</td>\n",
       "    </tr>\n",
       "  </tbody>\n",
       "</table>\n",
       "</div>"
      ],
      "text/plain": [
       "   calls  minutes  messages   mb_used  is_ultra\n",
       "0   40.0   311.90      83.0  19915.42         0\n",
       "1   85.0   516.75      56.0  22696.96         0\n",
       "2   77.0   467.66      86.0  21060.45         0\n",
       "3  106.0   745.53      81.0   8437.39         1\n",
       "4   66.0   418.74       1.0  14502.75         0"
      ]
     },
     "execution_count": 5,
     "metadata": {},
     "output_type": "execute_result"
    }
   ],
   "source": [
    "data.head()"
   ]
  },
  {
   "cell_type": "markdown",
   "metadata": {},
   "source": [
    "Мы видим, что наш набор данных состоит из 3214 событий и 5 признаков, один из которых является целевым (is_ultra).\n",
    "Признак is_ultra является категориальным, поэтому перед нами стоит задача классификации. Наша модель должна предсказывать 1, если мы хотим порекомендовать клиенту тариф \"Ultra\" и 0, если будем рекомендовать тариф \"Smart\""
   ]
  },
  {
   "cell_type": "markdown",
   "metadata": {},
   "source": [
    "## 2. Разбъем данные на обучающую, валидационную и тестовую выборки"
   ]
  },
  {
   "cell_type": "markdown",
   "metadata": {},
   "source": [
    "Так как у нас отсутвует тестовый набор данных, то правильней будет разбить выборку на три части: обучающая, валидационная и тестовая. На обучающей и валидационной выборках будем тренировать и проверять правильность наших моделей, на тестовой выборке проведем финальное тестирование нашей модели."
   ]
  },
  {
   "cell_type": "markdown",
   "metadata": {},
   "source": [
    "Сначала отдельно выделим признаки и решение"
   ]
  },
  {
   "cell_type": "code",
   "execution_count": 6,
   "metadata": {},
   "outputs": [],
   "source": [
    "X = data.drop(['is_ultra'], axis=1)\n",
    "y = data['is_ultra']"
   ]
  },
  {
   "cell_type": "markdown",
   "metadata": {},
   "source": [
    "Разобъем на обучающую и валидационную, в пропорции 60/40."
   ]
  },
  {
   "cell_type": "markdown",
   "metadata": {},
   "source": [
    "Мой коммент: сделаю как ты сказал"
   ]
  },
  {
   "cell_type": "code",
   "execution_count": 7,
   "metadata": {},
   "outputs": [],
   "source": [
    "X_train, X_valid, y_train, y_valid = train_test_split(X, y, train_size=.8, random_state=12)"
   ]
  },
  {
   "cell_type": "markdown",
   "metadata": {},
   "source": [
    "Теперь валидационную выборку разобъем пополам, на валидационную и тестовую"
   ]
  },
  {
   "cell_type": "code",
   "execution_count": 8,
   "metadata": {},
   "outputs": [],
   "source": [
    "X_valid, X_test, y_valid, y_test = train_test_split(X_valid, y_valid, train_size=.5, random_state=8)"
   ]
  },
  {
   "cell_type": "markdown",
   "metadata": {},
   "source": [
    "В итоге мы разбили наш набор данных в пропорции 80/10/10. Приступим к выбору модели"
   ]
  },
  {
   "cell_type": "markdown",
   "metadata": {},
   "source": [
    "## 3. Исследуем различные модели"
   ]
  },
  {
   "cell_type": "markdown",
   "metadata": {},
   "source": [
    "На данном этапе мы займемся подбором модели классификации. Наш выбор будет состоять из следующих вариантов:\n",
    " * Метод k ближайших соседей\n",
    " * Логистическая регрессия\n",
    " * Классификатор линейных векторов\n",
    " * Дерево решений\n",
    " * Случайный лес\n",
    " * Градиентный бустинг деревьев решений\n",
    " * Простейшая нейронная сеть"
   ]
  },
  {
   "cell_type": "markdown",
   "metadata": {},
   "source": [
    "***"
   ]
  },
  {
   "cell_type": "markdown",
   "metadata": {},
   "source": [
    "#### Метод k ближайших соседей"
   ]
  },
  {
   "cell_type": "markdown",
   "metadata": {},
   "source": [
    "В данном методе важный гиперпараметр - количество соседей, проанализируем с количестовм от 1 до "
   ]
  },
  {
   "cell_type": "code",
   "execution_count": 9,
   "metadata": {},
   "outputs": [],
   "source": [
    "from sklearn.neighbors import KNeighborsClassifier"
   ]
  },
  {
   "cell_type": "code",
   "execution_count": 11,
   "metadata": {
    "scrolled": true
   },
   "outputs": [
    {
     "name": "stdout",
     "output_type": "stream",
     "text": [
      "n: 1\tточность на обучающем наборе: 1.0    \taccuracy: 0.726    \tROC AUC: 0.662\n",
      "n: 2\tточность на обучающем наборе: 0.844    \taccuracy: 0.741    \tROC AUC: 0.629\n",
      "n: 3\tточность на обучающем наборе: 0.858    \taccuracy: 0.741    \tROC AUC: 0.661\n",
      "n: 4\tточность на обучающем наборе: 0.816    \taccuracy: 0.748    \tROC AUC: 0.636\n",
      "n: 5\tточность на обучающем наборе: 0.823    \taccuracy: 0.738    \tROC AUC: 0.649\n",
      "n: 6\tточность на обучающем наборе: 0.809    \taccuracy: 0.741    \tROC AUC: 0.636\n",
      "n: 7\tточность на обучающем наборе: 0.812    \taccuracy: 0.751    \tROC AUC: 0.655\n",
      "n: 8\tточность на обучающем наборе: 0.805    \taccuracy: 0.748    \tROC AUC: 0.636\n",
      "n: 9\tточность на обучающем наборе: 0.806    \taccuracy: 0.763    \tROC AUC: 0.662\n",
      "n: 10\tточность на обучающем наборе: 0.796    \taccuracy: 0.751    \tROC AUC: 0.643\n",
      "n: 11\tточность на обучающем наборе: 0.801    \taccuracy: 0.754    \tROC AUC: 0.648\n",
      "n: 12\tточность на обучающем наборе: 0.796    \taccuracy: 0.751    \tROC AUC: 0.638\n",
      "n: 13\tточность на обучающем наборе: 0.799    \taccuracy: 0.754    \tROC AUC: 0.648\n",
      "n: 14\tточность на обучающем наборе: 0.792    \taccuracy: 0.751    \tROC AUC: 0.64\n"
     ]
    }
   ],
   "source": [
    "for n_neighbors in range(1, 15):\n",
    "    knc = KNeighborsClassifier(n_neighbors=n_neighbors)\n",
    "    pred_k = knc.fit(X_train, y_train).predict(X_valid)\n",
    "    print(f'n: {n_neighbors}\\tточность на обучающем наборе: {round(knc.score(X_train, y_train), 3)}\\\n",
    "    \\taccuracy: {round(accuracy_score(y_valid.values, pred_k),3)}\\\n",
    "    \\tROC AUC: {round(roc_auc_score(y_valid.values, pred_k), 3)}')"
   ]
  },
  {
   "cell_type": "markdown",
   "metadata": {},
   "source": [
    "Самый высокий параметр accuracy при n=9"
   ]
  },
  {
   "cell_type": "markdown",
   "metadata": {},
   "source": [
    "***"
   ]
  },
  {
   "cell_type": "markdown",
   "metadata": {},
   "source": [
    "#### Логистическая регрессия"
   ]
  },
  {
   "cell_type": "markdown",
   "metadata": {},
   "source": [
    "В данном методе выберем гиперпараметры penalty (l1, l2) и solver (liblinear, lbfgs)"
   ]
  },
  {
   "cell_type": "code",
   "execution_count": 12,
   "metadata": {},
   "outputs": [],
   "source": [
    "from sklearn.linear_model import LogisticRegression"
   ]
  },
  {
   "cell_type": "code",
   "execution_count": 13,
   "metadata": {},
   "outputs": [
    {
     "name": "stdout",
     "output_type": "stream",
     "text": [
      "точность на обучающем наборе: 0.759\taccuracy: 0.738\tROC AUC: 0.599\n"
     ]
    }
   ],
   "source": [
    "#Выберем penalty='l1', solver='liblinear', max_iter=150, чтобы не возникала ошибка\n",
    "logreg = LogisticRegression(penalty='l1', \n",
    "                            solver='liblinear', \n",
    "                            max_iter=150)\n",
    "\n",
    "pred_logreg = logreg.fit(X_train, y_train).predict(X_valid)\n",
    "\n",
    "print(f'точность на обучающем наборе: {round(logreg.score(X_train, y_train), 3)}\\\n",
    "\\taccuracy: {round(accuracy_score(y_valid.values, pred_logreg),3)}\\\n",
    "\\tROC AUC: {round(roc_auc_score(y_valid.values, pred_logreg), 3)}')"
   ]
  },
  {
   "cell_type": "code",
   "execution_count": 14,
   "metadata": {},
   "outputs": [
    {
     "name": "stdout",
     "output_type": "stream",
     "text": [
      "точность на обучающем наборе: 0.713\taccuracy: 0.685\tROC AUC: 0.517\n"
     ]
    }
   ],
   "source": [
    "#Выберем penalty='l2', solver='lbfgs', max_iter=150, чтобы не возникала ошибка\n",
    "logreg = LogisticRegression(penalty='l2', \n",
    "                            solver='lbfgs', \n",
    "                            max_iter=150)\n",
    "\n",
    "pred_logreg = logreg.fit(X_train, y_train).predict(X_valid)\n",
    "\n",
    "print(f'точность на обучающем наборе: {round(logreg.score(X_train, y_train), 3)}\\\n",
    "\\taccuracy: {round(accuracy_score(y_valid.values, pred_logreg),3)}\\\n",
    "\\tROC AUC: {round(roc_auc_score(y_valid.values, pred_logreg), 3)}')"
   ]
  },
  {
   "cell_type": "markdown",
   "metadata": {},
   "source": [
    "При выборе в логистической регрессии алгоритма решающего ядра параметры accuracy и ROC AUC меняются незначительно."
   ]
  },
  {
   "cell_type": "markdown",
   "metadata": {},
   "source": [
    "***"
   ]
  },
  {
   "cell_type": "markdown",
   "metadata": {},
   "source": [
    "#### Классификатор линейных векторов"
   ]
  },
  {
   "cell_type": "code",
   "execution_count": 15,
   "metadata": {},
   "outputs": [],
   "source": [
    "from sklearn.svm import LinearSVC"
   ]
  },
  {
   "cell_type": "code",
   "execution_count": 16,
   "metadata": {},
   "outputs": [
    {
     "name": "stdout",
     "output_type": "stream",
     "text": [
      "точность на обучающем наборе: 0.726\taccuracy: 0.701\tROC AUC: 0.543\n"
     ]
    },
    {
     "name": "stderr",
     "output_type": "stream",
     "text": [
      "/opt/conda/lib/python3.7/site-packages/sklearn/svm/base.py:929: ConvergenceWarning: Liblinear failed to converge, increase the number of iterations.\n",
      "  \"the number of iterations.\", ConvergenceWarning)\n"
     ]
    }
   ],
   "source": [
    "lsvc = LinearSVC(max_iter=100, \n",
    "                 random_state=7)\n",
    "\n",
    "pred_lsvc = lsvc.fit(X_train, y_train).predict(X_valid)\n",
    "\n",
    "print(f'точность на обучающем наборе: {round(lsvc.score(X_train, y_train), 3)}\\\n",
    "\\taccuracy: {round(accuracy_score(y_valid.values, pred_lsvc),3)}\\\n",
    "\\tROC AUC: {round(roc_auc_score(y_valid.values, pred_lsvc), 3)}')"
   ]
  },
  {
   "cell_type": "markdown",
   "metadata": {},
   "source": [
    "Классификатор опорных векторов на данном наборе данных не показывает достаточной точности, даже на обучающем наборе."
   ]
  },
  {
   "cell_type": "markdown",
   "metadata": {},
   "source": [
    "***"
   ]
  },
  {
   "cell_type": "markdown",
   "metadata": {},
   "source": [
    "#### Дерево решений"
   ]
  },
  {
   "cell_type": "code",
   "execution_count": 17,
   "metadata": {},
   "outputs": [],
   "source": [
    "from sklearn.tree import DecisionTreeClassifier"
   ]
  },
  {
   "cell_type": "markdown",
   "metadata": {},
   "source": [
    "Посмотрим как глубина решающего дерева влияет на точность и ROC AUC"
   ]
  },
  {
   "cell_type": "code",
   "execution_count": 18,
   "metadata": {},
   "outputs": [
    {
     "name": "stdout",
     "output_type": "stream",
     "text": [
      "Глубина: 5    \tточность на обучающем наборе: 0.825    \taccuracy: 0.776    \tROC AUC: 0.679\n",
      "Глубина: 6    \tточность на обучающем наборе: 0.839    \taccuracy: 0.769    \tROC AUC: 0.672\n",
      "Глубина: 7    \tточность на обучающем наборе: 0.85    \taccuracy: 0.782    \tROC AUC: 0.686\n",
      "Глубина: 8    \tточность на обучающем наборе: 0.859    \taccuracy: 0.782    \tROC AUC: 0.699\n",
      "Глубина: 9    \tточность на обучающем наборе: 0.872    \taccuracy: 0.782    \tROC AUC: 0.696\n",
      "Глубина: 10    \tточность на обучающем наборе: 0.88    \taccuracy: 0.769    \tROC AUC: 0.687\n",
      "Глубина: 11    \tточность на обучающем наборе: 0.893    \taccuracy: 0.763    \tROC AUC: 0.682\n",
      "Глубина: 12    \tточность на обучающем наборе: 0.903    \taccuracy: 0.776    \tROC AUC: 0.699\n",
      "Глубина: 13    \tточность на обучающем наборе: 0.916    \taccuracy: 0.745    \tROC AUC: 0.678\n",
      "Глубина: 14    \tточность на обучающем наборе: 0.93    \taccuracy: 0.741    \tROC AUC: 0.691\n",
      "Глубина: 15    \tточность на обучающем наборе: 0.942    \taccuracy: 0.741    \tROC AUC: 0.679\n",
      "Глубина: 16    \tточность на обучающем наборе: 0.953    \taccuracy: 0.745    \tROC AUC: 0.698\n",
      "Глубина: 17    \tточность на обучающем наборе: 0.964    \taccuracy: 0.754    \tROC AUC: 0.703\n",
      "Глубина: 18    \tточность на обучающем наборе: 0.971    \taccuracy: 0.738    \tROC AUC: 0.686\n",
      "Глубина: 19    \tточность на обучающем наборе: 0.981    \taccuracy: 0.745    \tROC AUC: 0.693\n"
     ]
    }
   ],
   "source": [
    "for max_depth in range(5, 20):\n",
    "    dtc = DecisionTreeClassifier(max_depth=max_depth, \n",
    "                                 random_state=2)\n",
    "    \n",
    "    pred_dtc = dtc.fit(X_train, y_train).predict(X_valid)\n",
    "    \n",
    "    print(f'Глубина: {max_depth}\\\n",
    "    \\tточность на обучающем наборе: {round(dtc.score(X_train, y_train), 3)}\\\n",
    "    \\taccuracy: {round(accuracy_score(y_valid.values, pred_dtc),3)}\\\n",
    "    \\tROC AUC: {round(roc_auc_score(y_valid.values, pred_dtc), 3)}')"
   ]
  },
  {
   "cell_type": "markdown",
   "metadata": {},
   "source": [
    "Видим, что максимальное значение точности и ROC AUC у нас при глубине дерева - 13. Запомним это значение и будем использовать при дальнейших расчетах."
   ]
  },
  {
   "cell_type": "markdown",
   "metadata": {},
   "source": [
    "Далее проверим, как минимальное количество листов влияет на точность решающего дерева, при фиксированной глубине в 12"
   ]
  },
  {
   "cell_type": "code",
   "execution_count": 31,
   "metadata": {},
   "outputs": [
    {
     "name": "stdout",
     "output_type": "stream",
     "text": [
      "min число в листе: 10    \tточность на обучающем наборе: 0.852    \taccuracy: 0.782    \tROC AUC: 0.719\n",
      "min число в листе: 12    \tточность на обучающем наборе: 0.847    \taccuracy: 0.779    \tROC AUC: 0.714\n",
      "min число в листе: 14    \tточность на обучающем наборе: 0.842    \taccuracy: 0.779    \tROC AUC: 0.716\n",
      "min число в листе: 16    \tточность на обучающем наборе: 0.837    \taccuracy: 0.782    \tROC AUC: 0.701\n",
      "min число в листе: 18    \tточность на обучающем наборе: 0.836    \taccuracy: 0.782    \tROC AUC: 0.704\n",
      "min число в листе: 20    \tточность на обучающем наборе: 0.835    \taccuracy: 0.782    \tROC AUC: 0.699\n",
      "min число в листе: 22    \tточность на обучающем наборе: 0.834    \taccuracy: 0.801    \tROC AUC: 0.72\n",
      "min число в листе: 24    \tточность на обучающем наборе: 0.83    \taccuracy: 0.785    \tROC AUC: 0.701\n",
      "min число в листе: 26    \tточность на обучающем наборе: 0.829    \taccuracy: 0.785    \tROC AUC: 0.701\n",
      "min число в листе: 28    \tточность на обучающем наборе: 0.826    \taccuracy: 0.785    \tROC AUC: 0.711\n",
      "min число в листе: 30    \tточность на обучающем наборе: 0.825    \taccuracy: 0.779    \tROC AUC: 0.699\n",
      "min число в листе: 32    \tточность на обучающем наборе: 0.825    \taccuracy: 0.779    \tROC AUC: 0.699\n",
      "min число в листе: 34    \tточность на обучающем наборе: 0.825    \taccuracy: 0.779    \tROC AUC: 0.699\n",
      "min число в листе: 36    \tточность на обучающем наборе: 0.824    \taccuracy: 0.782    \tROC AUC: 0.704\n",
      "min число в листе: 38    \tточность на обучающем наборе: 0.823    \taccuracy: 0.779    \tROC AUC: 0.701\n",
      "min число в листе: 40    \tточность на обучающем наборе: 0.82    \taccuracy: 0.776    \tROC AUC: 0.694\n",
      "min число в листе: 42    \tточность на обучающем наборе: 0.818    \taccuracy: 0.773    \tROC AUC: 0.699\n",
      "min число в листе: 44    \tточность на обучающем наборе: 0.818    \taccuracy: 0.776    \tROC AUC: 0.706\n",
      "min число в листе: 46    \tточность на обучающем наборе: 0.818    \taccuracy: 0.769    \tROC AUC: 0.702\n",
      "min число в листе: 48    \tточность на обучающем наборе: 0.818    \taccuracy: 0.773    \tROC AUC: 0.702\n"
     ]
    }
   ],
   "source": [
    "for min_samples_leaf  in range(10, 50, 2):\n",
    "    dtc = DecisionTreeClassifier(max_depth=13, \n",
    "                                 min_samples_leaf=min_samples_leaf, \n",
    "                                 random_state=2)\n",
    "    \n",
    "    pred_dtc = dtc.fit(X_train, y_train).predict(X_valid)\n",
    "    \n",
    "    print(f'min число в листе: {min_samples_leaf}\\\n",
    "    \\tточность на обучающем наборе: {round(dtc.score(X_train, y_train), 3)}\\\n",
    "    \\taccuracy: {round(accuracy_score(y_valid.values, pred_dtc),3)}\\\n",
    "    \\tROC AUC: {round(roc_auc_score(y_valid.values, pred_dtc), 3)}')"
   ]
  },
  {
   "cell_type": "markdown",
   "metadata": {},
   "source": [
    "Видим, что максимальное значение точности и ROC AUC у нас при глубине дерева - 13, минимальном числе объектов в листе - 22. Запомним это значение и будем использовать при дальнейших расчетах."
   ]
  },
  {
   "cell_type": "code",
   "execution_count": 20,
   "metadata": {},
   "outputs": [
    {
     "name": "stdout",
     "output_type": "stream",
     "text": [
      "min число примеров: 5    \tточность на обучающем наборе: 0.834    \taccuracy: 0.801    \tROC AUC: 0.72\n",
      "min число примеров: 10    \tточность на обучающем наборе: 0.834    \taccuracy: 0.801    \tROC AUC: 0.72\n",
      "min число примеров: 15    \tточность на обучающем наборе: 0.834    \taccuracy: 0.801    \tROC AUC: 0.72\n",
      "min число примеров: 20    \tточность на обучающем наборе: 0.834    \taccuracy: 0.801    \tROC AUC: 0.72\n",
      "min число примеров: 25    \tточность на обучающем наборе: 0.834    \taccuracy: 0.801    \tROC AUC: 0.72\n",
      "min число примеров: 30    \tточность на обучающем наборе: 0.834    \taccuracy: 0.801    \tROC AUC: 0.72\n",
      "min число примеров: 35    \tточность на обучающем наборе: 0.834    \taccuracy: 0.801    \tROC AUC: 0.72\n",
      "min число примеров: 40    \tточность на обучающем наборе: 0.834    \taccuracy: 0.801    \tROC AUC: 0.72\n",
      "min число примеров: 45    \tточность на обучающем наборе: 0.834    \taccuracy: 0.801    \tROC AUC: 0.72\n",
      "min число примеров: 50    \tточность на обучающем наборе: 0.834    \taccuracy: 0.801    \tROC AUC: 0.72\n",
      "min число примеров: 55    \tточность на обучающем наборе: 0.831    \taccuracy: 0.801    \tROC AUC: 0.73\n",
      "min число примеров: 60    \tточность на обучающем наборе: 0.829    \taccuracy: 0.794    \tROC AUC: 0.718\n",
      "min число примеров: 65    \tточность на обучающем наборе: 0.829    \taccuracy: 0.794    \tROC AUC: 0.718\n",
      "min число примеров: 70    \tточность на обучающем наборе: 0.829    \taccuracy: 0.794    \tROC AUC: 0.718\n",
      "min число примеров: 75    \tточность на обучающем наборе: 0.829    \taccuracy: 0.794    \tROC AUC: 0.718\n",
      "min число примеров: 80    \tточность на обучающем наборе: 0.829    \taccuracy: 0.794    \tROC AUC: 0.718\n",
      "min число примеров: 85    \tточность на обучающем наборе: 0.825    \taccuracy: 0.785    \tROC AUC: 0.713\n",
      "min число примеров: 90    \tточность на обучающем наборе: 0.825    \taccuracy: 0.785    \tROC AUC: 0.713\n",
      "min число примеров: 95    \tточность на обучающем наборе: 0.825    \taccuracy: 0.785    \tROC AUC: 0.713\n"
     ]
    }
   ],
   "source": [
    "for min_samples_split  in range(5, 100, 5):\n",
    "    dtc = DecisionTreeClassifier(max_depth=12, \n",
    "                                 min_samples_leaf=22, \n",
    "                                 min_samples_split=min_samples_split, \n",
    "                                 random_state=2)\n",
    "    \n",
    "    pred_dtc = dtc.fit(X_train, y_train).predict(X_valid)\n",
    "    \n",
    "    print(f'min число примеров: {min_samples_split}\\\n",
    "    \\tточность на обучающем наборе: {round(dtc.score(X_train, y_train), 3)}\\\n",
    "    \\taccuracy: {round(accuracy_score(y_valid.values, pred_dtc),3)}\\\n",
    "    \\tROC AUC: {round(roc_auc_score(y_valid.values, pred_dtc), 3)}')"
   ]
  },
  {
   "cell_type": "markdown",
   "metadata": {},
   "source": [
    "Видим что значительных изменений точности и ROC AUC мы не наблюдаем. Зафикисируем min_samples_split=5"
   ]
  },
  {
   "cell_type": "markdown",
   "metadata": {},
   "source": [
    "Итоговое дерево:"
   ]
  },
  {
   "cell_type": "code",
   "execution_count": 21,
   "metadata": {},
   "outputs": [
    {
     "name": "stdout",
     "output_type": "stream",
     "text": [
      "точность на обучающем наборе: 0.834    \taccuracy: 0.801    \tROC AUC: 0.72\n"
     ]
    }
   ],
   "source": [
    "dtc = DecisionTreeClassifier(max_depth=12, \n",
    "                             min_samples_leaf=22, \n",
    "                             min_samples_split=5, \n",
    "                             random_state=2)\n",
    "\n",
    "pred_dtc = dtc.fit(X_train, y_train).predict(X_valid)\n",
    "\n",
    "print(f'точность на обучающем наборе: {round(dtc.score(X_train, y_train), 3)}\\\n",
    "    \\taccuracy: {round(accuracy_score(y_valid.values, pred_dtc),3)}\\\n",
    "    \\tROC AUC: {round(roc_auc_score(y_valid.values, pred_dtc), 3)}')"
   ]
  },
  {
   "cell_type": "markdown",
   "metadata": {},
   "source": [
    "Видим что решающее дерево на валидационной выборке удовлетворяет нашим минимальным требованиям в уровне точности в 0.75. Запомним параметры этого дерева и будем его использовать при построении случайного леса."
   ]
  },
  {
   "cell_type": "markdown",
   "metadata": {},
   "source": [
    "***"
   ]
  },
  {
   "cell_type": "markdown",
   "metadata": {},
   "source": [
    "#### Случайный лес деревьев решений"
   ]
  },
  {
   "cell_type": "code",
   "execution_count": 22,
   "metadata": {},
   "outputs": [],
   "source": [
    "from sklearn.ensemble import RandomForestClassifier"
   ]
  },
  {
   "cell_type": "markdown",
   "metadata": {},
   "source": [
    "При построении случайного леса используем параметры дерева, которые получили ранее. Выберем размер леса, перебирая количество деревьев."
   ]
  },
  {
   "cell_type": "code",
   "execution_count": 23,
   "metadata": {},
   "outputs": [
    {
     "name": "stdout",
     "output_type": "stream",
     "text": [
      "Деревьев: 10    \tточность на обучающем наборе: 0.907    \taccuracy: 0.766    \tROC AUC: 0.684\n",
      "Деревьев: 20    \tточность на обучающем наборе: 0.907    \taccuracy: 0.785    \tROC AUC: 0.708\n",
      "Деревьев: 30    \tточность на обучающем наборе: 0.904    \taccuracy: 0.788    \tROC AUC: 0.713\n",
      "Деревьев: 40    \tточность на обучающем наборе: 0.905    \taccuracy: 0.794    \tROC AUC: 0.718\n",
      "Деревьев: 50    \tточность на обучающем наборе: 0.905    \taccuracy: 0.791    \tROC AUC: 0.715\n",
      "Деревьев: 60    \tточность на обучающем наборе: 0.905    \taccuracy: 0.791    \tROC AUC: 0.713\n",
      "Деревьев: 70    \tточность на обучающем наборе: 0.905    \taccuracy: 0.794    \tROC AUC: 0.718\n",
      "Деревьев: 80    \tточность на обучающем наборе: 0.902    \taccuracy: 0.791    \tROC AUC: 0.715\n",
      "Деревьев: 90    \tточность на обучающем наборе: 0.903    \taccuracy: 0.791    \tROC AUC: 0.713\n",
      "Деревьев: 100    \tточность на обучающем наборе: 0.903    \taccuracy: 0.794    \tROC AUC: 0.715\n",
      "Деревьев: 110    \tточность на обучающем наборе: 0.903    \taccuracy: 0.788    \tROC AUC: 0.711\n",
      "Деревьев: 120    \tточность на обучающем наборе: 0.903    \taccuracy: 0.788    \tROC AUC: 0.711\n",
      "Деревьев: 130    \tточность на обучающем наборе: 0.903    \taccuracy: 0.791    \tROC AUC: 0.713\n",
      "Деревьев: 140    \tточность на обучающем наборе: 0.904    \taccuracy: 0.791    \tROC AUC: 0.713\n",
      "Деревьев: 150    \tточность на обучающем наборе: 0.903    \taccuracy: 0.791    \tROC AUC: 0.713\n",
      "Деревьев: 160    \tточность на обучающем наборе: 0.903    \taccuracy: 0.788    \tROC AUC: 0.711\n",
      "Деревьев: 170    \tточность на обучающем наборе: 0.903    \taccuracy: 0.788    \tROC AUC: 0.711\n",
      "Деревьев: 180    \tточность на обучающем наборе: 0.904    \taccuracy: 0.788    \tROC AUC: 0.711\n",
      "Деревьев: 190    \tточность на обучающем наборе: 0.904    \taccuracy: 0.788    \tROC AUC: 0.711\n"
     ]
    }
   ],
   "source": [
    "for n_estimators in range(10, 200, 10):\n",
    "    \n",
    "    rfc = RandomForestClassifier(n_estimators=n_estimators, \n",
    "                                 max_depth=12, \n",
    "                                 random_state=9)\n",
    "    \n",
    "    pred_rfc = rfc.fit(X_train, y_train).predict(X_valid)\n",
    "    \n",
    "    print(f'Деревьев: {n_estimators}\\\n",
    "    \\tточность на обучающем наборе: {round(rfc.score(X_train, y_train), 3)}\\\n",
    "    \\taccuracy: {round(accuracy_score(y_valid.values, pred_rfc),3)}\\\n",
    "    \\tROC AUC: {round(roc_auc_score(y_valid.values, pred_rfc), 3)}')"
   ]
  },
  {
   "cell_type": "markdown",
   "metadata": {},
   "source": [
    "Мы видим, что максимальная точность предсказаний у случайного леса, при количестве деревьев - 40 (мы зафиксировали глубину дерева из предыдущего исследования). Причем, надо заметить, что она очень не значительно выше, чем у дерева, при гораздо, большей сложности."
   ]
  },
  {
   "cell_type": "markdown",
   "metadata": {},
   "source": [
    "Итоговое дерево:"
   ]
  },
  {
   "cell_type": "code",
   "execution_count": 32,
   "metadata": {},
   "outputs": [
    {
     "name": "stdout",
     "output_type": "stream",
     "text": [
      "точность на обучающем наборе: 0.913    \taccuracy: 0.794    \tROC AUC: 0.72\n"
     ]
    }
   ],
   "source": [
    "rfc = RandomForestClassifier(n_estimators=40, \n",
    "                             max_depth=13, \n",
    "                             random_state=9)\n",
    "    \n",
    "pred_rfc = rfc.fit(X_train, y_train).predict(X_valid)\n",
    "    \n",
    "print(f'точность на обучающем наборе: {round(rfc.score(X_train, y_train), 3)}\\\n",
    "    \\taccuracy: {round(accuracy_score(y_valid.values, pred_rfc),3)}\\\n",
    "    \\tROC AUC: {round(roc_auc_score(y_valid.values, pred_rfc), 3)}')"
   ]
  },
  {
   "cell_type": "markdown",
   "metadata": {},
   "source": [
    "***"
   ]
  },
  {
   "cell_type": "markdown",
   "metadata": {},
   "source": [
    "#### Градиентный бустинг деревьев решений"
   ]
  },
  {
   "cell_type": "code",
   "execution_count": 34,
   "metadata": {},
   "outputs": [],
   "source": [
    "from sklearn.ensemble import GradientBoostingClassifier"
   ]
  },
  {
   "cell_type": "markdown",
   "metadata": {},
   "source": [
    "Посмотрим как количество деревьев, влияет на точность градиентного бустинга"
   ]
  },
  {
   "cell_type": "code",
   "execution_count": 78,
   "metadata": {},
   "outputs": [
    {
     "name": "stdout",
     "output_type": "stream",
     "text": [
      "Деревьев: 10    \tточность на обучающем наборе: 0.853    \taccuracy: 0.769    \tROC AUC: 0.667\n",
      "Деревьев: 15    \tточность на обучающем наборе: 0.872    \taccuracy: 0.773    \tROC AUC: 0.679\n",
      "Деревьев: 20    \tточность на обучающем наборе: 0.881    \taccuracy: 0.782    \tROC AUC: 0.696\n",
      "Деревьев: 25    \tточность на обучающем наборе: 0.888    \taccuracy: 0.791    \tROC AUC: 0.713\n",
      "Деревьев: 30    \tточность на обучающем наборе: 0.892    \taccuracy: 0.782    \tROC AUC: 0.704\n",
      "Деревьев: 35    \tточность на обучающем наборе: 0.897    \taccuracy: 0.779    \tROC AUC: 0.699\n",
      "Деревьев: 40    \tточность на обучающем наборе: 0.901    \taccuracy: 0.782    \tROC AUC: 0.704\n",
      "Деревьев: 45    \tточность на обучающем наборе: 0.903    \taccuracy: 0.785    \tROC AUC: 0.708\n",
      "Деревьев: 50    \tточность на обучающем наборе: 0.906    \taccuracy: 0.785    \tROC AUC: 0.708\n",
      "Деревьев: 55    \tточность на обучающем наборе: 0.911    \taccuracy: 0.782    \tROC AUC: 0.706\n",
      "Деревьев: 60    \tточность на обучающем наборе: 0.914    \taccuracy: 0.785    \tROC AUC: 0.711\n",
      "Деревьев: 65    \tточность на обучающем наборе: 0.918    \taccuracy: 0.782    \tROC AUC: 0.706\n",
      "Деревьев: 70    \tточность на обучающем наборе: 0.919    \taccuracy: 0.782    \tROC AUC: 0.706\n",
      "Деревьев: 75    \tточность на обучающем наборе: 0.923    \taccuracy: 0.785    \tROC AUC: 0.711\n",
      "Деревьев: 80    \tточность на обучающем наборе: 0.925    \taccuracy: 0.788    \tROC AUC: 0.716\n",
      "Деревьев: 85    \tточность на обучающем наборе: 0.928    \taccuracy: 0.791    \tROC AUC: 0.718\n",
      "Деревьев: 90    \tточность на обучающем наборе: 0.931    \taccuracy: 0.788    \tROC AUC: 0.716\n",
      "Деревьев: 95    \tточность на обучающем наборе: 0.935    \taccuracy: 0.788    \tROC AUC: 0.718\n"
     ]
    }
   ],
   "source": [
    "for n_estimators in range(10, 100, 5):\n",
    "    \n",
    "    gbc = GradientBoostingClassifier(n_estimators=n_estimators, \n",
    "                                     learning_rate=0.1, \n",
    "                                     max_depth=6,\n",
    "                                     random_state=9)\n",
    "    \n",
    "    pred_gbc = gbc.fit(X_train, y_train).predict(X_valid)\n",
    "    \n",
    "    print(f'Деревьев: {n_estimators}\\\n",
    "    \\tточность на обучающем наборе: {round(gbc.score(X_train, y_train), 3)}\\\n",
    "    \\taccuracy: {round(accuracy_score(y_valid.values, pred_gbc),3)}\\\n",
    "    \\tROC AUC: {round(roc_auc_score(y_valid.values, pred_gbc), 3)}')"
   ]
  },
  {
   "cell_type": "markdown",
   "metadata": {},
   "source": [
    "Видим, что при количестве деревьев 25 и их глубине всего лишь 6, мы получаем наилучший результат из всех предыдущих вариантов.\n",
    "Запомним этот сет"
   ]
  },
  {
   "cell_type": "code",
   "execution_count": 79,
   "metadata": {},
   "outputs": [
    {
     "name": "stdout",
     "output_type": "stream",
     "text": [
      "точность на обучающем наборе: 0.888    \taccuracy: 0.791    \tROC AUC: 0.713\n"
     ]
    }
   ],
   "source": [
    "gbc = GradientBoostingClassifier(n_estimators=25, \n",
    "                                     learning_rate=0.1, \n",
    "                                     max_depth=6,\n",
    "                                     random_state=9)\n",
    "    \n",
    "pred_gbc = gbc.fit(X_train, y_train).predict(X_valid)\n",
    "    \n",
    "print(f'точность на обучающем наборе: {round(gbc.score(X_train, y_train), 3)}\\\n",
    "    \\taccuracy: {round(accuracy_score(y_valid.values, pred_gbc),3)}\\\n",
    "    \\tROC AUC: {round(roc_auc_score(y_valid.values, pred_gbc), 3)}')"
   ]
  },
  {
   "cell_type": "markdown",
   "metadata": {},
   "source": [
    "После смены разбивки у нас лес победил)"
   ]
  },
  {
   "cell_type": "markdown",
   "metadata": {},
   "source": [
    "***"
   ]
  },
  {
   "cell_type": "markdown",
   "metadata": {},
   "source": [
    "#### Простейшая нейронная сеть"
   ]
  },
  {
   "cell_type": "markdown",
   "metadata": {},
   "source": [
    "Рассмотрим, как с данной задачей справится простая нейронная сеть"
   ]
  },
  {
   "cell_type": "code",
   "execution_count": 53,
   "metadata": {},
   "outputs": [],
   "source": [
    "from sklearn.neural_network import MLPClassifier"
   ]
  },
  {
   "cell_type": "code",
   "execution_count": 54,
   "metadata": {},
   "outputs": [
    {
     "name": "stdout",
     "output_type": "stream",
     "text": [
      "точность на обучающем наборе: 0.706    \taccuracy: 0.676    \tROC AUC: 0.5\n"
     ]
    }
   ],
   "source": [
    "mlp = MLPClassifier(random_state=9, solver='lbfgs')\n",
    "    \n",
    "pred_mlp = mlp.fit(X_train, y_train).predict(X_valid)\n",
    "    \n",
    "print(f'точность на обучающем наборе: {round(mlp.score(X_train, y_train), 3)}\\\n",
    "    \\taccuracy: {round(accuracy_score(y_valid.values, pred_mlp),3)}\\\n",
    "    \\tROC AUC: {round(roc_auc_score(y_valid.values, pred_mlp), 3)}')"
   ]
  },
  {
   "cell_type": "markdown",
   "metadata": {},
   "source": [
    "Видим, что простая нейронная сеть не показывает выдающихся результатов на данном наборе данных"
   ]
  },
  {
   "cell_type": "markdown",
   "metadata": {},
   "source": [
    "***"
   ]
  },
  {
   "cell_type": "markdown",
   "metadata": {},
   "source": [
    "### Вывод:"
   ]
  },
  {
   "cell_type": "markdown",
   "metadata": {},
   "source": [
    "Проведя анализ разных моделей классификации, мы пришли к выводу, что на данном наборе данных, самой эффективной на обучающем и валидационным наборах данных, проявил себя случайный лес деревьев решений. Применим его для тестового набора."
   ]
  },
  {
   "cell_type": "markdown",
   "metadata": {},
   "source": [
    "***"
   ]
  },
  {
   "cell_type": "markdown",
   "metadata": {},
   "source": [
    "## 4. Проверим модель на тестовой выборке"
   ]
  },
  {
   "cell_type": "markdown",
   "metadata": {},
   "source": [
    "Проверим случайный лес решающих деревьев с параметрами из предыдущего раздела со следующими параметрами:\n",
    " * Глубина дерева - 13\n",
    " * Количество деревьев - 40"
   ]
  },
  {
   "cell_type": "code",
   "execution_count": 82,
   "metadata": {},
   "outputs": [
    {
     "name": "stdout",
     "output_type": "stream",
     "text": [
      "Точность на обучающем наборе: 0.913\n",
      "Точность на теством наборе: 0.755\n",
      "ROC AUC: 0.7035147392290251\n"
     ]
    }
   ],
   "source": [
    "rfc = RandomForestClassifier(n_estimators=40, \n",
    "                             max_depth=13, \n",
    "                             random_state=9)\n",
    "    \n",
    "pred_rfc = rfc.fit(X_train, y_train).predict(X_test)\n",
    "    \n",
    "\n",
    "print(\"Точность на обучающем наборе: {:.3f}\".format(rfc.score(X_train, y_train)))\n",
    "print(\"Точность на теством наборе: {:.3f}\".format(rfc.score(X_test, y_test)))\n",
    "print(\"ROC AUC:\",  roc_auc_score(y_test, pred_rfc))"
   ]
  },
  {
   "cell_type": "markdown",
   "metadata": {},
   "source": [
    "Видим, что сслучайный лес на тестовых данных дает соизмеримый уровень точности. Модель удовлетворяет требованиям, можно тестировать на продакшене."
   ]
  }
 ],
 "metadata": {
  "kernelspec": {
   "display_name": "Python 3",
   "language": "python",
   "name": "python3"
  },
  "language_info": {
   "codemirror_mode": {
    "name": "ipython",
    "version": 3
   },
   "file_extension": ".py",
   "mimetype": "text/x-python",
   "name": "python",
   "nbconvert_exporter": "python",
   "pygments_lexer": "ipython3",
   "version": "3.7.4"
  }
 },
 "nbformat": 4,
 "nbformat_minor": 2
}
